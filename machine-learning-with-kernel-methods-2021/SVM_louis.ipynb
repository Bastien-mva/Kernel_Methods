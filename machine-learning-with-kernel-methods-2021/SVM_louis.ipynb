{
 "cells": [
  {
   "cell_type": "code",
   "execution_count": 25,
   "id": "opposed-capitol",
   "metadata": {},
   "outputs": [
    {
     "name": "stdout",
     "output_type": "stream",
     "text": [
      "Collecting qpsolvers\n",
      "  Downloading qpsolvers-1.5.tar.gz (10 kB)\n",
      "Collecting quadprog>=0.1.8\n",
      "  Downloading quadprog-0.1.8.tar.gz (269 kB)\n",
      "Collecting Cython\n",
      "  Using cached Cython-0.29.22-cp37-cp37m-win_amd64.whl (1.6 MB)\n",
      "Building wheels for collected packages: qpsolvers, quadprog\n",
      "  Building wheel for qpsolvers (setup.py): started\n",
      "  Building wheel for qpsolvers (setup.py): finished with status 'done'\n",
      "  Created wheel for qpsolvers: filename=qpsolvers-1.5-py3-none-any.whl size=18784 sha256=555108b1af4667846f602750530b99fb42207697d2fa1397b3cce9d8c8f8a509\n",
      "  Stored in directory: c:\\users\\louis\\appdata\\local\\pip\\cache\\wheels\\67\\0f\\3d\\8568baeb3a81342ce737d1a387eafa48a909400c4efa63e232\n",
      "  Building wheel for quadprog (setup.py): started\n",
      "  Building wheel for quadprog (setup.py): finished with status 'done'\n",
      "  Created wheel for quadprog: filename=quadprog-0.1.8-cp37-cp37m-win_amd64.whl size=89564 sha256=b7612c58169a6b99d200d04604e17a39b18fdf499eedbbc9429a627ed53bd852\n",
      "  Stored in directory: c:\\users\\louis\\appdata\\local\\pip\\cache\\wheels\\40\\74\\3a\\072734cebfae52efc8a2523fd4703da7dfac29f17bd01ee372\n",
      "Successfully built qpsolvers quadprog\n",
      "Installing collected packages: Cython, quadprog, qpsolvers\n",
      "Successfully installed Cython-0.29.22 qpsolvers-1.5 quadprog-0.1.8\n"
     ]
    }
   ],
   "source": [
    "#!pip install qpsolvers"
   ]
  },
  {
   "cell_type": "code",
   "execution_count": 43,
   "id": "golden-appraisal",
   "metadata": {},
   "outputs": [],
   "source": [
    "import pandas as pd \n",
    "import numpy as np\n",
    "import matplotlib.pyplot as plt\n",
    "import numpy.linalg\n",
    "from tqdm import tqdm\n",
    "import numba \n",
    "from numba import njit, vectorize, jit\n",
    "import time \n",
    "import scipy\n",
    "\n",
    "import qpsolvers\n",
    "from qpsolvers import solve_qp"
   ]
  },
  {
   "cell_type": "code",
   "execution_count": 9,
   "id": "consecutive-peninsula",
   "metadata": {},
   "outputs": [],
   "source": [
    "X_train = pd.read_csv('data/Xtr0_mat100.csv',delimiter= ' ', header= None)\n",
    "Y_train = pd.read_csv('data/Ytr0.csv',delimiter= ',')\n",
    "X_test = pd.read_csv('data/Xte0_mat100.csv',delimiter= ' ', header= None)"
   ]
  },
  {
   "cell_type": "code",
   "execution_count": 10,
   "id": "adolescent-barrier",
   "metadata": {},
   "outputs": [],
   "source": [
    "X = X_train.values\n",
    "Y = Y_train[['Bound']].values"
   ]
  },
  {
   "cell_type": "code",
   "execution_count": 27,
   "id": "hidden-structure",
   "metadata": {},
   "outputs": [
    {
     "name": "stdout",
     "output_type": "stream",
     "text": [
      "(2000, 1)\n"
     ]
    }
   ],
   "source": [
    "print(Y.shape)"
   ]
  },
  {
   "cell_type": "code",
   "execution_count": 15,
   "id": "proud-weekly",
   "metadata": {},
   "outputs": [],
   "source": [
    "@njit\n",
    "def GaussianKernel(x, y, sig2 = 1): \n",
    "    return np.exp(-numpy.linalg.norm(x-y)**2/(2*sig2))"
   ]
  },
  {
   "cell_type": "code",
   "execution_count": 24,
   "id": "first-plant",
   "metadata": {},
   "outputs": [
    {
     "name": "stdout",
     "output_type": "stream",
     "text": [
      "16.318369150161743\n"
     ]
    }
   ],
   "source": [
    "time1 = time.time()\n",
    "Kernel = np.apply_along_axis(lambda x1: np.apply_along_axis( lambda x2 : GaussianKernel(x2, x1), 1, X), 1, X)\n",
    "time2 = time.time()\n",
    "print(time2 - time1, 's')"
   ]
  },
  {
   "cell_type": "code",
   "execution_count": 19,
   "id": "pending-geneva",
   "metadata": {},
   "outputs": [
    {
     "name": "stdout",
     "output_type": "stream",
     "text": [
      "[[1.         0.98475818 0.98371162 ... 0.98848832 0.98942306 0.98895558]\n",
      " [0.98475818 1.         0.9799995  ... 0.98545651 0.98173781 0.97988373]\n",
      " [0.98371162 0.9799995  1.         ... 0.97826428 0.98196982 0.97699373]\n",
      " ...\n",
      " [0.98848832 0.98545651 0.97826428 ... 1.         0.98708787 0.98545651]\n",
      " [0.98942306 0.98173781 0.98196982 ... 0.98708787 1.         0.98650493]\n",
      " [0.98895558 0.97988373 0.97699373 ... 0.98545651 0.98650493 1.        ]]\n"
     ]
    }
   ],
   "source": [
    "print(Kernel)"
   ]
  },
  {
   "cell_type": "code",
   "execution_count": 5,
   "id": "presidential-category",
   "metadata": {},
   "outputs": [],
   "source": [
    "def hinge_loss(u):\n",
    "    return max([0, 1-u])\n",
    "\n",
    "\n",
    "    "
   ]
  },
  {
   "cell_type": "code",
   "execution_count": 7,
   "id": "efficient-sharp",
   "metadata": {},
   "outputs": [
    {
     "name": "stdout",
     "output_type": "stream",
     "text": [
      "0\n"
     ]
    }
   ],
   "source": [
    "class SVM:\n",
    "    def __init__(self, kernel, C):\n",
    "        self.kernel = kernel\n",
    "        self.C = C\n",
    "        \n",
    "        \n",
    "    def fit(self, X, Y):\n",
    "        K = np.apply_along_axis(lambda x1: np.apply_along_axis( lambda x2 : GaussianKernel(x2, x1), 1, X), 1, X)\n",
    "        \n",
    "        solver = solve_qp(K, Y, )\n",
    "        "
   ]
  },
  {
   "cell_type": "code",
   "execution_count": 44,
   "id": "peaceful-bangkok",
   "metadata": {},
   "outputs": [
    {
     "name": "stdout",
     "output_type": "stream",
     "text": [
      "['quadprog']\n"
     ]
    }
   ],
   "source": [
    "print(qpsolvers.available_solvers)"
   ]
  },
  {
   "cell_type": "code",
   "execution_count": 58,
   "id": "empty-vacation",
   "metadata": {},
   "outputs": [
    {
     "ename": "ValueError",
     "evalue": "Buffer dtype mismatch, expected 'double' but got 'long long'",
     "output_type": "error",
     "traceback": [
      "\u001b[1;31m---------------------------------------------------------------------------\u001b[0m",
      "\u001b[1;31mValueError\u001b[0m                                Traceback (most recent call last)",
      "\u001b[1;32m<ipython-input-58-cea3c5d9a361>\u001b[0m in \u001b[0;36m<module>\u001b[1;34m()\u001b[0m\n\u001b[0;32m     13\u001b[0m \u001b[0mb\u001b[0m \u001b[1;33m=\u001b[0m \u001b[0mnp\u001b[0m\u001b[1;33m.\u001b[0m\u001b[0marray\u001b[0m\u001b[1;33m(\u001b[0m\u001b[1;33m[\u001b[0m\u001b[1;36m1.\u001b[0m\u001b[1;33m]\u001b[0m\u001b[1;33m)\u001b[0m\u001b[1;33m\u001b[0m\u001b[1;33m\u001b[0m\u001b[0m\n\u001b[0;32m     14\u001b[0m \u001b[1;33m\u001b[0m\u001b[0m\n\u001b[1;32m---> 15\u001b[1;33m \u001b[0mtentative\u001b[0m \u001b[1;33m=\u001b[0m \u001b[0msolve_qp\u001b[0m\u001b[1;33m(\u001b[0m\u001b[0mKernel\u001b[0m\u001b[1;33m,\u001b[0m \u001b[0mY_bis\u001b[0m\u001b[1;33m,\u001b[0m \u001b[0mG\u001b[0m\u001b[1;33m,\u001b[0m \u001b[0mh\u001b[0m\u001b[1;33m,\u001b[0m \u001b[0mA\u001b[0m\u001b[1;33m,\u001b[0m \u001b[0mb\u001b[0m\u001b[1;33m,\u001b[0m \u001b[0msolver\u001b[0m \u001b[1;33m=\u001b[0m \u001b[1;34m'quadprog'\u001b[0m\u001b[1;33m)\u001b[0m\u001b[1;33m\u001b[0m\u001b[1;33m\u001b[0m\u001b[0m\n\u001b[0m\u001b[0;32m     16\u001b[0m \u001b[1;33m\u001b[0m\u001b[0m\n\u001b[0;32m     17\u001b[0m \u001b[0mprint\u001b[0m\u001b[1;33m(\u001b[0m\u001b[0mtentative\u001b[0m\u001b[1;33m)\u001b[0m\u001b[1;33m\u001b[0m\u001b[1;33m\u001b[0m\u001b[0m\n",
      "\u001b[1;32mD:\\louispro\\anaconda\\lib\\site-packages\\qpsolvers\\__init__.py\u001b[0m in \u001b[0;36msolve_qp\u001b[1;34m(P, q, G, h, A, b, lb, ub, solver, initvals, sym_proj, verbose, **kwargs)\u001b[0m\n\u001b[0;32m    260\u001b[0m         \u001b[1;32mreturn\u001b[0m \u001b[0mqpoases_solve_qp\u001b[0m\u001b[1;33m(\u001b[0m\u001b[1;33m*\u001b[0m\u001b[0margs\u001b[0m\u001b[1;33m,\u001b[0m \u001b[1;33m**\u001b[0m\u001b[0mkwargs\u001b[0m\u001b[1;33m)\u001b[0m\u001b[1;33m\u001b[0m\u001b[1;33m\u001b[0m\u001b[0m\n\u001b[0;32m    261\u001b[0m     \u001b[1;32melif\u001b[0m \u001b[0msolver\u001b[0m \u001b[1;33m==\u001b[0m \u001b[1;34m'quadprog'\u001b[0m\u001b[1;33m:\u001b[0m\u001b[1;33m\u001b[0m\u001b[1;33m\u001b[0m\u001b[0m\n\u001b[1;32m--> 262\u001b[1;33m         \u001b[1;32mreturn\u001b[0m \u001b[0mquadprog_solve_qp\u001b[0m\u001b[1;33m(\u001b[0m\u001b[1;33m*\u001b[0m\u001b[0margs\u001b[0m\u001b[1;33m,\u001b[0m \u001b[1;33m**\u001b[0m\u001b[0mkwargs\u001b[0m\u001b[1;33m)\u001b[0m\u001b[1;33m\u001b[0m\u001b[1;33m\u001b[0m\u001b[0m\n\u001b[0m\u001b[0;32m    263\u001b[0m     \u001b[1;32mraise\u001b[0m \u001b[0mException\u001b[0m\u001b[1;33m(\u001b[0m\u001b[1;34m\"solver '%s' not recognized\"\u001b[0m \u001b[1;33m%\u001b[0m \u001b[0msolver\u001b[0m\u001b[1;33m)\u001b[0m\u001b[1;33m\u001b[0m\u001b[1;33m\u001b[0m\u001b[0m\n\u001b[0;32m    264\u001b[0m \u001b[1;33m\u001b[0m\u001b[0m\n",
      "\u001b[1;32mD:\\louispro\\anaconda\\lib\\site-packages\\qpsolvers\\quadprog_.py\u001b[0m in \u001b[0;36mquadprog_solve_qp\u001b[1;34m(P, q, G, h, A, b, initvals, verbose)\u001b[0m\n\u001b[0;32m     86\u001b[0m         \u001b[0mmeq\u001b[0m \u001b[1;33m=\u001b[0m \u001b[1;36m0\u001b[0m\u001b[1;33m\u001b[0m\u001b[1;33m\u001b[0m\u001b[0m\n\u001b[0;32m     87\u001b[0m     \u001b[1;32mtry\u001b[0m\u001b[1;33m:\u001b[0m\u001b[1;33m\u001b[0m\u001b[1;33m\u001b[0m\u001b[0m\n\u001b[1;32m---> 88\u001b[1;33m         \u001b[1;32mreturn\u001b[0m \u001b[0msolve_qp\u001b[0m\u001b[1;33m(\u001b[0m\u001b[0mqp_G\u001b[0m\u001b[1;33m,\u001b[0m \u001b[0mqp_a\u001b[0m\u001b[1;33m,\u001b[0m \u001b[0mqp_C\u001b[0m\u001b[1;33m,\u001b[0m \u001b[0mqp_b\u001b[0m\u001b[1;33m,\u001b[0m \u001b[0mmeq\u001b[0m\u001b[1;33m)\u001b[0m\u001b[1;33m[\u001b[0m\u001b[1;36m0\u001b[0m\u001b[1;33m]\u001b[0m\u001b[1;33m\u001b[0m\u001b[1;33m\u001b[0m\u001b[0m\n\u001b[0m\u001b[0;32m     89\u001b[0m     \u001b[1;32mexcept\u001b[0m \u001b[0mValueError\u001b[0m \u001b[1;32mas\u001b[0m \u001b[0me\u001b[0m\u001b[1;33m:\u001b[0m\u001b[1;33m\u001b[0m\u001b[1;33m\u001b[0m\u001b[0m\n\u001b[0;32m     90\u001b[0m         \u001b[1;32mif\u001b[0m \u001b[1;34m\"matrix G is not positive definite\"\u001b[0m \u001b[1;32min\u001b[0m \u001b[0mstr\u001b[0m\u001b[1;33m(\u001b[0m\u001b[0me\u001b[0m\u001b[1;33m)\u001b[0m\u001b[1;33m:\u001b[0m\u001b[1;33m\u001b[0m\u001b[1;33m\u001b[0m\u001b[0m\n",
      "\u001b[1;32mquadprog/quadprog.pyx\u001b[0m in \u001b[0;36mquadprog.solve_qp\u001b[1;34m()\u001b[0m\n",
      "\u001b[1;31mValueError\u001b[0m: Buffer dtype mismatch, expected 'double' but got 'long long'"
     ]
    }
   ],
   "source": [
    "Y_bis = np.ravel(Y) #diminue la dimension de (n,1) à (n,)\n",
    "\n",
    "n = 2000\n",
    "lbd = 1\n",
    "C = 1 / (2 * n * lbd)\n",
    "\n",
    "'''Je réécris l'inégalité : 0<=y_i*alpha_i<=C avec C = 1/(2*lambda*n)\n",
    "comme: G*alpha<=h avec G=stack(diag(Y),-diag(Y)) et h= [C, ..., C, 0, ..., 0] (n fois C et n fois 0)\n",
    "ça revient au même et je crois que le solver devrait fonctionner avec ça, mais j'y arrive pas encore\n",
    "'''\n",
    "G = np.vstack((np.diag(Y_bis), -np.diag(Y_bis)))\n",
    "\n",
    "h = np.ones(2*n)\n",
    "h[:n] = h[:n] * C\n",
    "h[n:] = h[:n] * 0\n",
    "\n",
    "#Si j'ai bien compris mettre un vecteur de 1 pour A et 1 pour b permet de pas les prendre en compte \n",
    "#(ici on a pas d'égalité)\n",
    "A = np.ones(n)\n",
    "b = np.array([1.])\n",
    "\n",
    "tentative = solve_qp(Kernel, Y_bis, G, h, A, b, solver = 'quadprog')\n",
    "\n",
    "print(tentative)"
   ]
  },
  {
   "cell_type": "code",
   "execution_count": null,
   "id": "european-illustration",
   "metadata": {},
   "outputs": [],
   "source": []
  },
  {
   "cell_type": "code",
   "execution_count": null,
   "id": "athletic-parking",
   "metadata": {},
   "outputs": [],
   "source": []
  },
  {
   "cell_type": "code",
   "execution_count": null,
   "id": "bearing-prompt",
   "metadata": {},
   "outputs": [],
   "source": []
  },
  {
   "cell_type": "code",
   "execution_count": null,
   "id": "commercial-mustang",
   "metadata": {},
   "outputs": [],
   "source": []
  },
  {
   "cell_type": "markdown",
   "id": "gross-squad",
   "metadata": {},
   "source": [
    "### Ancien pour Ridge et test:"
   ]
  },
  {
   "cell_type": "code",
   "execution_count": 59,
   "id": "homeless-finger",
   "metadata": {},
   "outputs": [
    {
     "ename": "ValueError",
     "evalue": "Buffer dtype mismatch, expected 'double' but got 'long long'",
     "output_type": "error",
     "traceback": [
      "\u001b[1;31m---------------------------------------------------------------------------\u001b[0m",
      "\u001b[1;31mValueError\u001b[0m                                Traceback (most recent call last)",
      "\u001b[1;32m<ipython-input-59-aee96fabfbfc>\u001b[0m in \u001b[0;36m<module>\u001b[1;34m()\u001b[0m\n\u001b[0;32m      7\u001b[0m \u001b[0mG\u001b[0m \u001b[1;33m=\u001b[0m \u001b[0mnp\u001b[0m\u001b[1;33m.\u001b[0m\u001b[0mdiag\u001b[0m\u001b[1;33m(\u001b[0m\u001b[0mY_bis\u001b[0m\u001b[1;33m)\u001b[0m\u001b[1;33m\u001b[0m\u001b[1;33m\u001b[0m\u001b[0m\n\u001b[0;32m      8\u001b[0m \u001b[1;33m\u001b[0m\u001b[0m\n\u001b[1;32m----> 9\u001b[1;33m \u001b[0mtentative\u001b[0m \u001b[1;33m=\u001b[0m \u001b[0msolve_qp\u001b[0m\u001b[1;33m(\u001b[0m\u001b[0mKernel\u001b[0m\u001b[1;33m,\u001b[0m \u001b[0mY_bis\u001b[0m\u001b[1;33m,\u001b[0m \u001b[0mG\u001b[0m\u001b[1;33m,\u001b[0m \u001b[0mh\u001b[0m\u001b[1;33m,\u001b[0m \u001b[0mA\u001b[0m\u001b[1;33m,\u001b[0m \u001b[0mb\u001b[0m\u001b[1;33m,\u001b[0m \u001b[0msolver\u001b[0m \u001b[1;33m=\u001b[0m \u001b[1;34m'quadprog'\u001b[0m\u001b[1;33m)\u001b[0m\u001b[1;33m\u001b[0m\u001b[1;33m\u001b[0m\u001b[0m\n\u001b[0m\u001b[0;32m     10\u001b[0m \u001b[1;33m\u001b[0m\u001b[0m\n\u001b[0;32m     11\u001b[0m \u001b[0mprint\u001b[0m\u001b[1;33m(\u001b[0m\u001b[0mtentative\u001b[0m\u001b[1;33m)\u001b[0m\u001b[1;33m\u001b[0m\u001b[1;33m\u001b[0m\u001b[0m\n",
      "\u001b[1;32mD:\\louispro\\anaconda\\lib\\site-packages\\qpsolvers\\__init__.py\u001b[0m in \u001b[0;36msolve_qp\u001b[1;34m(P, q, G, h, A, b, lb, ub, solver, initvals, sym_proj, verbose, **kwargs)\u001b[0m\n\u001b[0;32m    260\u001b[0m         \u001b[1;32mreturn\u001b[0m \u001b[0mqpoases_solve_qp\u001b[0m\u001b[1;33m(\u001b[0m\u001b[1;33m*\u001b[0m\u001b[0margs\u001b[0m\u001b[1;33m,\u001b[0m \u001b[1;33m**\u001b[0m\u001b[0mkwargs\u001b[0m\u001b[1;33m)\u001b[0m\u001b[1;33m\u001b[0m\u001b[1;33m\u001b[0m\u001b[0m\n\u001b[0;32m    261\u001b[0m     \u001b[1;32melif\u001b[0m \u001b[0msolver\u001b[0m \u001b[1;33m==\u001b[0m \u001b[1;34m'quadprog'\u001b[0m\u001b[1;33m:\u001b[0m\u001b[1;33m\u001b[0m\u001b[1;33m\u001b[0m\u001b[0m\n\u001b[1;32m--> 262\u001b[1;33m         \u001b[1;32mreturn\u001b[0m \u001b[0mquadprog_solve_qp\u001b[0m\u001b[1;33m(\u001b[0m\u001b[1;33m*\u001b[0m\u001b[0margs\u001b[0m\u001b[1;33m,\u001b[0m \u001b[1;33m**\u001b[0m\u001b[0mkwargs\u001b[0m\u001b[1;33m)\u001b[0m\u001b[1;33m\u001b[0m\u001b[1;33m\u001b[0m\u001b[0m\n\u001b[0m\u001b[0;32m    263\u001b[0m     \u001b[1;32mraise\u001b[0m \u001b[0mException\u001b[0m\u001b[1;33m(\u001b[0m\u001b[1;34m\"solver '%s' not recognized\"\u001b[0m \u001b[1;33m%\u001b[0m \u001b[0msolver\u001b[0m\u001b[1;33m)\u001b[0m\u001b[1;33m\u001b[0m\u001b[1;33m\u001b[0m\u001b[0m\n\u001b[0;32m    264\u001b[0m \u001b[1;33m\u001b[0m\u001b[0m\n",
      "\u001b[1;32mD:\\louispro\\anaconda\\lib\\site-packages\\qpsolvers\\quadprog_.py\u001b[0m in \u001b[0;36mquadprog_solve_qp\u001b[1;34m(P, q, G, h, A, b, initvals, verbose)\u001b[0m\n\u001b[0;32m     86\u001b[0m         \u001b[0mmeq\u001b[0m \u001b[1;33m=\u001b[0m \u001b[1;36m0\u001b[0m\u001b[1;33m\u001b[0m\u001b[1;33m\u001b[0m\u001b[0m\n\u001b[0;32m     87\u001b[0m     \u001b[1;32mtry\u001b[0m\u001b[1;33m:\u001b[0m\u001b[1;33m\u001b[0m\u001b[1;33m\u001b[0m\u001b[0m\n\u001b[1;32m---> 88\u001b[1;33m         \u001b[1;32mreturn\u001b[0m \u001b[0msolve_qp\u001b[0m\u001b[1;33m(\u001b[0m\u001b[0mqp_G\u001b[0m\u001b[1;33m,\u001b[0m \u001b[0mqp_a\u001b[0m\u001b[1;33m,\u001b[0m \u001b[0mqp_C\u001b[0m\u001b[1;33m,\u001b[0m \u001b[0mqp_b\u001b[0m\u001b[1;33m,\u001b[0m \u001b[0mmeq\u001b[0m\u001b[1;33m)\u001b[0m\u001b[1;33m[\u001b[0m\u001b[1;36m0\u001b[0m\u001b[1;33m]\u001b[0m\u001b[1;33m\u001b[0m\u001b[1;33m\u001b[0m\u001b[0m\n\u001b[0m\u001b[0;32m     89\u001b[0m     \u001b[1;32mexcept\u001b[0m \u001b[0mValueError\u001b[0m \u001b[1;32mas\u001b[0m \u001b[0me\u001b[0m\u001b[1;33m:\u001b[0m\u001b[1;33m\u001b[0m\u001b[1;33m\u001b[0m\u001b[0m\n\u001b[0;32m     90\u001b[0m         \u001b[1;32mif\u001b[0m \u001b[1;34m\"matrix G is not positive definite\"\u001b[0m \u001b[1;32min\u001b[0m \u001b[0mstr\u001b[0m\u001b[1;33m(\u001b[0m\u001b[0me\u001b[0m\u001b[1;33m)\u001b[0m\u001b[1;33m:\u001b[0m\u001b[1;33m\u001b[0m\u001b[1;33m\u001b[0m\u001b[0m\n",
      "\u001b[1;32mquadprog/quadprog.pyx\u001b[0m in \u001b[0;36mquadprog.solve_qp\u001b[1;34m()\u001b[0m\n",
      "\u001b[1;31mValueError\u001b[0m: Buffer dtype mismatch, expected 'double' but got 'long long'"
     ]
    }
   ],
   "source": [
    "n = 2000\n",
    "lbd = 1\n",
    "C = 1 / (2 * n * lbd)\n",
    "\n",
    "h = np.ones(n)*C\n",
    "\n",
    "G = np.diag(Y_bis)\n",
    "\n",
    "tentative = solve_qp(Kernel, Y_bis, G, h, A, b, solver = 'quadprog')\n",
    "\n",
    "print(tentative)"
   ]
  },
  {
   "cell_type": "code",
   "execution_count": 45,
   "id": "metropolitan-covering",
   "metadata": {},
   "outputs": [],
   "source": [
    "lbd = 3\n",
    "\n",
    "#w_pas_benef = X.T.dot(np.linalg.inv(X.dot(X.T) + lbd * np.eyes(2000))).dot(Y)\n",
    "def KRR(X,Y):\n",
    "    n, d = x.shape\n",
    "    w = np.linalg.inv(X.T.dot(X) + lbd * n * np.eye(d)).dot(X.T.dot(Y))\n",
    "    return w\n",
    "\n",
    "\n",
    "result = X@w_benef"
   ]
  }
 ],
 "metadata": {
  "kernelspec": {
   "display_name": "Python 3",
   "language": "python",
   "name": "python3"
  },
  "language_info": {
   "codemirror_mode": {
    "name": "ipython",
    "version": 3
   },
   "file_extension": ".py",
   "mimetype": "text/x-python",
   "name": "python",
   "nbconvert_exporter": "python",
   "pygments_lexer": "ipython3",
   "version": "3.7.1"
  }
 },
 "nbformat": 4,
 "nbformat_minor": 5
}
