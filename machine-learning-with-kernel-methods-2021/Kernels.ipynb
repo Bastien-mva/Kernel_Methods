{
 "cells": [
  {
   "cell_type": "code",
   "execution_count": 1,
   "metadata": {},
   "outputs": [],
   "source": [
    "%load_ext autoreload\n",
    "%autoreload 2"
   ]
  },
  {
   "cell_type": "code",
   "execution_count": 2,
   "metadata": {},
   "outputs": [],
   "source": [
    "import pandas as pd \n",
    "import numpy as np\n",
    "from itertools import product, permutations\n",
    "\n",
    "import numba\n",
    "from numba import njit,vectorize, jit\n",
    "from tqdm import tqdm\n",
    "\n",
    "import Estimators"
   ]
  },
  {
   "cell_type": "code",
   "execution_count": 3,
   "metadata": {},
   "outputs": [],
   "source": [
    "d = 2\n",
    "c = 0"
   ]
  },
  {
   "cell_type": "code",
   "execution_count": 4,
   "metadata": {},
   "outputs": [],
   "source": [
    "#@njit\n",
    "sig2 = 1\n",
    "@njit\n",
    "def GaussianKernel(x,y):\n",
    "    return np.exp(-np.linalg.norm(x-y)**2/(2*sig2))\n",
    "\n",
    "@njit\n",
    "def PolynomialKernel(x,y): \n",
    "    return (x.dot(y)+c)**d\n",
    "@njit\n",
    "def LinearKernel(x,y): \n",
    "    return x.dot(y)\n",
    "\n",
    "@njit\n",
    "def Laplace_kernel(x, y, gamma=1):\n",
    "    return 0.5 * np.exp(-gamma * np.linalg.norm(x-y))"
   ]
  },
  {
   "cell_type": "code",
   "execution_count": 57,
   "metadata": {},
   "outputs": [],
   "source": [
    "def importation_mat_100(): \n",
    "    X_train_100 = []\n",
    "    X_test_100 = []\n",
    "    Y_train = []\n",
    "    for i in range(3): \n",
    "        xtrain = pd.read_csv('data/Xtr'+str(i)+'_mat100.csv',delimiter= ',', header= None)\n",
    "        xtrain = np.squeeze(xtrain.to_numpy())\n",
    "        X_train_100.append(xtrain)\n",
    "    \n",
    "        xtest = pd.read_csv('data/Xte'+str(i)+'_mat100.csv',delimiter= ',', header= None)\n",
    "        xtest = np.squeeze(xtest.to_numpy())\n",
    "        X_test_100.append(xtest)\n",
    "    \n",
    "        Y_train.append(pd.read_csv('data/Ytr'+str(i)+'.csv',delimiter= ',')['Bound'].to_numpy())\n",
    "    return X_train_100,X_test_100,Y_train\n",
    "\n",
    "def importation(): \n",
    "    X_train = []\n",
    "    X_test = []\n",
    "    Y_train = []\n",
    "    for i in range(3): \n",
    "        xtrain = pd.read_csv('data/Xtr'+str(i)+'.csv',delimiter= ',', header= None)\n",
    "        xtrain = xtrain.iloc[1:,1].to_numpy()\n",
    "        X_train.append(xtrain)\n",
    "    \n",
    "        xtest = pd.read_csv('data/Xte'+str(i)+'.csv',delimiter= ',', header= None)\n",
    "        xtest = xtest.iloc[1:,1].to_numpy()\n",
    "        X_test.append(xtest)\n",
    "    \n",
    "        Y_train.append(pd.read_csv('data/Ytr'+str(i)+'.csv',delimiter= ',')['Bound'].to_numpy())\n",
    "    return X_train,X_test,Y_train\n",
    "\n",
    "X_train,X_test,Y_train = importation()\n",
    "X_train_100, X_test_100,Y_train = importation_mat_100()"
   ]
  },
  {
   "cell_type": "code",
   "execution_count": 36,
   "metadata": {},
   "outputs": [],
   "source": [
    "X_traintest = []\n",
    "for i in range(3): \n",
    "    X_traintest.append(np.concatenate((X_train[i],X_test[i])))\n"
   ]
  },
  {
   "cell_type": "code",
   "execution_count": 45,
   "metadata": {},
   "outputs": [],
   "source": [
    "def to_Kernel_train(X, Kernel): \n",
    "    length = X.shape[0]\n",
    "    mat_K = np.zeros((length,length))\n",
    "    for i in range(length):\n",
    "        x_i = np.squeeze(X[i])\n",
    "        for j in range(i,length): \n",
    "            x_j = np.squeeze(X[j])\n",
    "            value = Kernel(x_i,x_j)\n",
    "            mat_K[i,j] = value\n",
    "            mat_K[j,i] = value \n",
    "    return mat_K\n",
    "\n",
    "#@njit \n",
    "def to_Kernel_test(Xtrain,Xtest,Kernel):\n",
    "    length_train = Xtrain.shape[0]\n",
    "    length_test = Xtest.shape[0]\n",
    "    bimat_K = np.zeros((length_train,length_test))\n",
    "    for i in range(length_train):\n",
    "        x_i = np.squeeze(Xtrain[i])\n",
    "        for j in range(length_test): \n",
    "            x_j = np.squeeze(Xtest[j])\n",
    "            value = Kernel(x_i,x_j)\n",
    "            bimat_K[i,j] = value\n",
    "    return bimat_K\n",
    "\n",
    "\n",
    "def standardize(K): \n",
    "    U = np.full(K.shape,1/K.shape[0])\n",
    "    I = np.eye(K.shape[0])\n",
    "    return (I-U)@K@(I-U)"
   ]
  },
  {
   "cell_type": "code",
   "execution_count": 9,
   "metadata": {},
   "outputs": [],
   "source": [
    "# Compute phi for Spectrum kernel\n",
    "def phi_spectrum(x,k,U):\n",
    "    \"\"\"U: list of the sequences of size k to look for in x\"\"\"\n",
    "    phi_spec = np.zeros(len(U))\n",
    "    for j, u in enumerate(U):\n",
    "        for i in range(len(x)-k+1):\n",
    "            if x[i:i+k] == u:\n",
    "                phi_spec[j] +=1\n",
    "    return phi_spec\n",
    "\n",
    "#Compute phi for Substring kernel\n",
    "def l(i):\n",
    "    return i[-1] - i[0] + 1\n",
    "\n",
    "def I(k,n):\n",
    "    I = set()\n",
    "    for ele in permutations(range(0,n),k):\n",
    "        I.add(tuple(sorted(list(ele))))\n",
    "    return list(I)\n",
    "\n",
    "def phi_substring(x,k,U,lamb=0.5): #fonctionne (testé avec l'exemple page 392)\n",
    "    \"\"\"U: list of the sequences of size k to look for in x\"\"\"\n",
    "    phi = np.zeros(len(U))\n",
    "    I_kn = I(k,len(x))\n",
    "    for j, u in enumerate(U):\n",
    "        for i in I_kn:\n",
    "            x_i = \"\".join([x[idx]  for idx in i])\n",
    "            if x_i==u:\n",
    "                phi[j] += lamb**l(i)\n",
    "    return phi\n",
    "\n",
    "\n",
    "def make_dict_phi(X, phi,k):\n",
    "    U = [''.join(letter) for letter in product('ACGT', repeat=k)]\n",
    "    phi_dict = {seq:phi(seq,k,U) for seq in tqdm(X)}\n",
    "    return phi_dict\n",
    "    \n",
    "\n",
    "# Compute K(x_i,x) \n",
    "def K_substring_2(x, y):\n",
    "    \"\"\"\n",
    "    Compute K(x_i,x) with K a string kernel\n",
    "    \n",
    "    Parameters:\n",
    "    Ne prend pas en argument X_train mais seulement phi_X_train(qui a été calculé précédement)\n",
    "    et i .\n",
    "    \n",
    "    phi_X_train: list of phi(X_train) which is also needed to construct the matrix K \n",
    "    phi: the function phi\n",
    "    k: hyperparameter of the spectrum kernel (size of sequences in U)\n",
    "    \"\"\"\n",
    "    value = np.sum([dict_sub_traintest_2[str(x)] * dict_sub_traintest_2[str(y)]])  \n",
    "    return value\n"
   ]
  },
  {
   "cell_type": "code",
   "execution_count": 37,
   "metadata": {},
   "outputs": [
    {
     "name": "stderr",
     "output_type": "stream",
     "text": [
      "100%|██████████| 9000/9000 [01:44<00:00, 86.34it/s]\n",
      "100%|██████████| 9000/9000 [07:37<00:00, 19.67it/s]\n"
     ]
    }
   ],
   "source": [
    "##CONSTRUCTION DES DICTIONNAIRES. On fait ça pour eviter de les recalculer à chaque fois\n",
    "dict_spectrum_traintest = [0]*7\n",
    "\n",
    "#dict_spectrum_traintest[3] = make_dict_phi(X_traintest[0],phi_spectrum,3)\n",
    "#dict_spectrum_traintest[4] = make_dict_phi(X_traintest[0],phi_spectrum,4)\n",
    "\n",
    "#dict_spectrum_traintest[5] = make_dict_phi(np.concatenate(X_traintest),phi_spectrum,5)\n",
    "#dict_spectrum_traintest[6] = make_dict_phi(np.concatenate(X_traintest),phi_spectrum,6)\n",
    "#dict_sub_traintest_2 = make_dict_phi(X_traintest[0], phi_substring,2)\n",
    "\n",
    "#dict_sub_traintest_3 = make_dict_phi(X_traintest[0], phi_substring,3)"
   ]
  },
  {
   "cell_type": "code",
   "execution_count": 92,
   "metadata": {},
   "outputs": [],
   "source": [
    "def make_K_spectrum(k): \n",
    "    \n",
    "    def K_spectrum(x,y): \n",
    "        value = np.sum([dict_spectrum_traintest[k][str(x)] * dict_spectrum_traintest[k][str(y)]])\n",
    "        return value \n",
    "    return K_spectrum\n",
    "K_spectrum_5 = make_K_spectrum(5)\n",
    "K_spectrum_6 = make_K_spectrum(6)"
   ]
  },
  {
   "cell_type": "code",
   "execution_count": 88,
   "metadata": {},
   "outputs": [
    {
     "name": "stdout",
     "output_type": "stream",
     "text": [
      "3\n"
     ]
    }
   ],
   "source": [
    "def make_function(L): \n",
    "    def f(x,y): \n",
    "        return L\n",
    "    return f \n",
    "\n",
    "test = make_function(3)\n",
    "print(test(0,0))"
   ]
  },
  {
   "cell_type": "code",
   "execution_count": 85,
   "metadata": {},
   "outputs": [
    {
     "data": {
      "text/plain": [
       "array([0., 0., 0., ..., 0., 2., 3.])"
      ]
     },
     "execution_count": 85,
     "metadata": {},
     "output_type": "execute_result"
    }
   ],
   "source": [
    "dict_spectrum_traintest[k][X_train[0][1]]"
   ]
  },
  {
   "cell_type": "code",
   "execution_count": 50,
   "metadata": {},
   "outputs": [],
   "source": [
    "def get_first_Kernels(Kernel): \n",
    "    '''\n",
    "    Permet d'avoir les Kernels de train et de test, au moins pour tester le modèle, voir ce qu'il donne sur le premier dataset. \n",
    "    '''\n",
    "    K_train = to_Kernel_train(X_train[0], Kernel)\n",
    "    K_test = to_Kernel_test(X_train[0], X_test[0], Kernel)\n",
    "    return K_train,K_test \n",
    "\n",
    "def get_list_Kernels(Kernel) : \n",
    "    '''\n",
    "    Permet d'avoir la liste des Kernel_train et Kernel_test pour chaque deteset. renvoie deux listes : la premiere contient \n",
    "    les 3 premiers Kernel_train des 3 datasets. Le deuxieme renvoie les Kernel_test des 3 datasets. \n",
    "    \n",
    "    Ne marche qu'avec les kernels qui prenent des strings en entree. \n",
    "    '''\n",
    "    list_K_train = list()\n",
    "    list_K_test = list()\n",
    "    for i in tqdm(range(3)): \n",
    "        list_K_train.append(to_Kernel_train(X_train[i], Kernel))\n",
    "        list_K_test.append(to_Kernel_test(X_train[i],X_test[i], Kernel))\n",
    "    return list_K_train,list_K_test\n",
    "\n",
    "def get_list_Kernels(Kernel) : \n",
    "    '''\n",
    "    Permet d'avoir la liste des Kernel_train et Kernel_test pour chaque deteset. renvoie deux listes : la premiere contient \n",
    "    les 3 premiers Kernel_train des 3 datasets. Le deuxieme renvoie les Kernel_test des 3 datasets. \n",
    "    \n",
    "    Ne marche qu'avec les kernels qui prenent des strings en entree. \n",
    "    '''\n",
    "    list_K_train = list()\n",
    "    list_K_test = list()\n",
    "    for i in tqdm(range(3)): \n",
    "        list_K_train.append(to_Kernel_train(X_train[i], Kernel))\n",
    "        list_K_test.append(to_Kernel_test(X_train[i],X_test[i], Kernel))\n",
    "    return list_K_train,list_K_test"
   ]
  },
  {
   "cell_type": "code",
   "execution_count": 93,
   "metadata": {},
   "outputs": [
    {
     "name": "stderr",
     "output_type": "stream",
     "text": [
      "100%|██████████| 3/3 [05:33<00:00, 111.33s/it]\n"
     ]
    }
   ],
   "source": [
    "list_K_train_spectrum_6, list_K_test_spectrum_6 = get_list_Kernels(K_spectrum_6)  "
   ]
  },
  {
   "cell_type": "code",
   "execution_count": 95,
   "metadata": {},
   "outputs": [
    {
     "name": "stderr",
     "output_type": "stream",
     "text": [
      "100%|██████████| 3/3 [05:21<00:00, 107.27s/it]\n"
     ]
    }
   ],
   "source": [
    "list_K_train_spectrum_5, list_K_test_spectrum_5 = get_list_Kernels(K_spectrum_5)  "
   ]
  },
  {
   "cell_type": "code",
   "execution_count": 106,
   "metadata": {},
   "outputs": [
    {
     "name": "stderr",
     "output_type": "stream",
     "text": [
      "0it [00:00, ?it/s]"
     ]
    },
    {
     "name": "stdout",
     "output_type": "stream",
     "text": [
      "We test :  0.001\n"
     ]
    },
    {
     "name": "stderr",
     "output_type": "stream",
     "text": [
      "5it [00:03,  1.50it/s]\n",
      "0it [00:00, ?it/s]"
     ]
    },
    {
     "name": "stdout",
     "output_type": "stream",
     "text": [
      "Score :  0.6775\n",
      "We test :  0.09181818181818181\n"
     ]
    },
    {
     "name": "stderr",
     "output_type": "stream",
     "text": [
      "5it [00:00, 12.49it/s]\n",
      "0it [00:00, ?it/s]"
     ]
    },
    {
     "name": "stdout",
     "output_type": "stream",
     "text": [
      "Score :  0.7335\n",
      "We test :  0.18263636363636362\n"
     ]
    },
    {
     "name": "stderr",
     "output_type": "stream",
     "text": [
      "5it [00:00, 13.35it/s]\n",
      "0it [00:00, ?it/s]"
     ]
    },
    {
     "name": "stdout",
     "output_type": "stream",
     "text": [
      "Score :  0.7415\n",
      "We test :  0.27345454545454545\n"
     ]
    },
    {
     "name": "stderr",
     "output_type": "stream",
     "text": [
      "5it [00:00, 12.07it/s]\n",
      "0it [00:00, ?it/s]"
     ]
    },
    {
     "name": "stdout",
     "output_type": "stream",
     "text": [
      "Score :  0.737\n",
      "We test :  0.36427272727272725\n"
     ]
    },
    {
     "name": "stderr",
     "output_type": "stream",
     "text": [
      "5it [00:00, 13.04it/s]\n",
      "0it [00:00, ?it/s]"
     ]
    },
    {
     "name": "stdout",
     "output_type": "stream",
     "text": [
      "Score :  0.7304999999999999\n",
      "We test :  0.45509090909090905\n"
     ]
    },
    {
     "name": "stderr",
     "output_type": "stream",
     "text": [
      "5it [00:00,  8.84it/s]\n",
      "0it [00:00, ?it/s]"
     ]
    },
    {
     "name": "stdout",
     "output_type": "stream",
     "text": [
      "Score :  0.722\n",
      "We test :  0.5459090909090909\n"
     ]
    },
    {
     "name": "stderr",
     "output_type": "stream",
     "text": [
      "5it [00:00, 11.12it/s]\n",
      "0it [00:00, ?it/s]"
     ]
    },
    {
     "name": "stdout",
     "output_type": "stream",
     "text": [
      "Score :  0.7155\n",
      "We test :  0.6367272727272727\n"
     ]
    },
    {
     "name": "stderr",
     "output_type": "stream",
     "text": [
      "5it [00:00, 12.87it/s]\n",
      "0it [00:00, ?it/s]"
     ]
    },
    {
     "name": "stdout",
     "output_type": "stream",
     "text": [
      "Score :  0.712\n",
      "We test :  0.7275454545454545\n"
     ]
    },
    {
     "name": "stderr",
     "output_type": "stream",
     "text": [
      "5it [00:00, 13.02it/s]\n",
      "0it [00:00, ?it/s]"
     ]
    },
    {
     "name": "stdout",
     "output_type": "stream",
     "text": [
      "Score :  0.7150000000000001\n",
      "We test :  0.8183636363636363\n"
     ]
    },
    {
     "name": "stderr",
     "output_type": "stream",
     "text": [
      "5it [00:00, 10.42it/s]\n"
     ]
    },
    {
     "name": "stdout",
     "output_type": "stream",
     "text": [
      "Score :  0.72\n",
      "We test :  0.9091818181818181\n"
     ]
    },
    {
     "name": "stderr",
     "output_type": "stream",
     "text": [
      "5it [00:00,  8.80it/s]\n",
      "0it [00:00, ?it/s]"
     ]
    },
    {
     "name": "stdout",
     "output_type": "stream",
     "text": [
      "Score :  0.7\n",
      "We test :  1.0\n"
     ]
    },
    {
     "name": "stderr",
     "output_type": "stream",
     "text": [
      "5it [00:00, 12.96it/s]"
     ]
    },
    {
     "name": "stdout",
     "output_type": "stream",
     "text": [
      "Score :  0.7105\n",
      "best_param =  0.18263636363636362\n"
     ]
    },
    {
     "name": "stderr",
     "output_type": "stream",
     "text": [
      "\n"
     ]
    },
    {
     "data": {
      "text/plain": [
       "0.18263636363636362"
      ]
     },
     "execution_count": 106,
     "metadata": {},
     "output_type": "execute_result"
    }
   ],
   "source": [
    "def grid_search_cv(model, Kernel_train, Y_train, parameters): \n",
    "    scores = list()\n",
    "    for parameter in parameters : \n",
    "        print('We test : ', parameter)\n",
    "        model.set_parameter(parameter)\n",
    "        scores.append(model.cross_val(Kernel_train,Y_train, 5))\n",
    "    arg_max = np.argmax(np.array(scores))\n",
    "    print('best_param = ',parameters[arg_max])\n",
    "    return parameters[arg_max]\n",
    "KRR_spectrum_6 = Estimators.KRR(Kernel = K_spectrum_6)\n",
    "parameters = np.linspace(0.001,1,12)\n",
    "parameters\n",
    "grid_search_cv(KRR_spectrum_6, list_K_train_spectrum_6[2], Y_train[2], parameters)"
   ]
  },
  {
   "cell_type": "code",
   "execution_count": 69,
   "metadata": {},
   "outputs": [],
   "source": [
    "Kernel_train_Gaussian = to_Kernel_train(X_mat100_0,GaussianKernel)\n",
    "Kernel_test_Gaussian = to_Kernel_test(X_mat100_0,X_mat100_0,GaussianKernel)"
   ]
  },
  {
   "cell_type": "code",
   "execution_count": 71,
   "metadata": {},
   "outputs": [
    {
     "name": "stderr",
     "output_type": "stream",
     "text": [
      "5it [00:02,  2.26it/s]\n",
      "0it [00:00, ?it/s]"
     ]
    },
    {
     "name": "stdout",
     "output_type": "stream",
     "text": [
      "Score :  0.519\n"
     ]
    },
    {
     "name": "stderr",
     "output_type": "stream",
     "text": [
      "5it [00:00,  8.98it/s]\n",
      "0it [00:00, ?it/s]"
     ]
    },
    {
     "name": "stdout",
     "output_type": "stream",
     "text": [
      "Score :  0.519\n"
     ]
    },
    {
     "name": "stderr",
     "output_type": "stream",
     "text": [
      "5it [00:00, 13.85it/s]\n",
      "0it [00:00, ?it/s]"
     ]
    },
    {
     "name": "stdout",
     "output_type": "stream",
     "text": [
      "Score :  0.519\n"
     ]
    },
    {
     "name": "stderr",
     "output_type": "stream",
     "text": [
      "5it [00:00, 13.36it/s]\n",
      "0it [00:00, ?it/s]"
     ]
    },
    {
     "name": "stdout",
     "output_type": "stream",
     "text": [
      "Score :  0.519\n"
     ]
    },
    {
     "name": "stderr",
     "output_type": "stream",
     "text": [
      "5it [00:00, 13.20it/s]\n",
      "0it [00:00, ?it/s]"
     ]
    },
    {
     "name": "stdout",
     "output_type": "stream",
     "text": [
      "Score :  0.519\n"
     ]
    },
    {
     "name": "stderr",
     "output_type": "stream",
     "text": [
      "5it [00:00, 13.50it/s]\n",
      "0it [00:00, ?it/s]"
     ]
    },
    {
     "name": "stdout",
     "output_type": "stream",
     "text": [
      "Score :  0.519\n"
     ]
    },
    {
     "name": "stderr",
     "output_type": "stream",
     "text": [
      "5it [00:00, 12.12it/s]\n",
      "0it [00:00, ?it/s]"
     ]
    },
    {
     "name": "stdout",
     "output_type": "stream",
     "text": [
      "Score :  0.519\n"
     ]
    },
    {
     "name": "stderr",
     "output_type": "stream",
     "text": [
      "5it [00:00, 13.49it/s]\n",
      "0it [00:00, ?it/s]"
     ]
    },
    {
     "name": "stdout",
     "output_type": "stream",
     "text": [
      "Score :  0.519\n"
     ]
    },
    {
     "name": "stderr",
     "output_type": "stream",
     "text": [
      "5it [00:00, 14.08it/s]\n",
      "0it [00:00, ?it/s]"
     ]
    },
    {
     "name": "stdout",
     "output_type": "stream",
     "text": [
      "Score :  0.519\n"
     ]
    },
    {
     "name": "stderr",
     "output_type": "stream",
     "text": [
      "5it [00:00, 12.80it/s]"
     ]
    },
    {
     "name": "stdout",
     "output_type": "stream",
     "text": [
      "Score :  0.519\n"
     ]
    },
    {
     "name": "stderr",
     "output_type": "stream",
     "text": [
      "\n"
     ]
    }
   ],
   "source": [
    "for i in range(10): \n",
    "    KRR_Gaussian = Estimators.KRR(Kernel = GaussianKernel, lam = 10**(-i))\n",
    "    KRR_Gaussian.cross_val(list_K_train_spectrum_6[0], Y_train[0], 5)"
   ]
  },
  {
   "cell_type": "code",
   "execution_count": 72,
   "metadata": {},
   "outputs": [
    {
     "data": {
      "text/plain": [
       "array([[nan, nan, nan, ..., nan, nan, nan],\n",
       "       [nan, nan, nan, ..., nan, nan, nan],\n",
       "       [nan, nan, nan, ..., nan, nan, nan],\n",
       "       ...,\n",
       "       [nan, nan, nan, ..., nan, nan, nan],\n",
       "       [nan, nan, nan, ..., nan, nan, nan],\n",
       "       [nan, nan, nan, ..., nan, nan, nan]])"
      ]
     },
     "execution_count": 72,
     "metadata": {},
     "output_type": "execute_result"
    }
   ],
   "source": [
    "list_K_test_spectrum_6[0]"
   ]
  },
  {
   "cell_type": "code",
   "execution_count": 19,
   "metadata": {},
   "outputs": [
    {
     "name": "stderr",
     "output_type": "stream",
     "text": [
      "<ipython-input-10-025997df8f8d>:12: NumbaPerformanceWarning: \u001b[1m\u001b[1m\u001b[1mnp.dot() is faster on contiguous arrays, called on (array(float64, 1d, A), array(float64, 1d, A))\u001b[0m\u001b[0m\u001b[0m\n",
      "  return x.dot(y)\n"
     ]
    }
   ],
   "source": [
    "Kernel_train_Linear = to_Kernel_train(X_mat100_0,LinearKernel)\n",
    "Kernel_test_Linear = to_Kernel_test(X_mat100_0,X_mat100_0,LinearKernel)"
   ]
  },
  {
   "cell_type": "code",
   "execution_count": 39,
   "metadata": {},
   "outputs": [],
   "source": [
    "def try_Kernel(Kernel,X,Kernel_train = 0,pre_computed = False): \n",
    "    '''\n",
    "    Fonction qui permet de voir si on overfit sur le train set, ce qui est normal (normalement). Le gaussian, polynomial et Laplace Kernel overfittent bien. \n",
    "    les restes non ( Spectrum, String et Linear)\n",
    "    mettre les kernel de train et de test en parametre si on veut eviter de les recalculer\n",
    "    '''\n",
    "    if pre_computed == False : \n",
    "        Kernel_train = to_Kernel_train(X,Kernel)\n",
    "    regressor = Estimators.KRR(Kernel = Kernel)\n",
    "    regressor.fit(Kernel_train,Y_train[0])\n",
    "    pred = regressor.predict(Kernel_train)\n",
    "    print('predictions-true : ', (pred-Y_train[0])[0:100])\n",
    "    print('predictions : ', pred[0:100]*1)\n",
    "    print('true : ', Y_train[0][0:100])\n",
    "    print('SCORE : ', 1-np.sum(np.abs(pred-Y_train[0]))/pred.shape[0])"
   ]
  },
  {
   "cell_type": "code",
   "execution_count": 112,
   "metadata": {},
   "outputs": [],
   "source": [
    "def download_results(model,list_Kernel_train,list_Kernel_test, parameters, name_dossier):\n",
    "    Y_predicted = []\n",
    "    for i in range(3): \n",
    "        model.set_parameter(parameters[i])\n",
    "        model.fit(list_Kernel_train[i], Y_train[i])\n",
    "        Y_predicted.append(model.predict(list_Kernel_test[i])*1)\n",
    "        print('Model {} Predicted'.format(i))\n",
    "\n",
    "    d = { 'Id' : np.arange(3000), 'Bound' : np.concatenate(Y_predicted)}\n",
    "    out = pd.DataFrame(data=d)\n",
    "    out.to_csv('predictions_KM'+name_dossier+'.csv', index=False)"
   ]
  },
  {
   "cell_type": "code",
   "execution_count": 113,
   "metadata": {},
   "outputs": [
    {
     "name": "stdout",
     "output_type": "stream",
     "text": [
      "Model 0 Predicted\n",
      "Model 1 Predicted\n",
      "Model 2 Predicted\n"
     ]
    }
   ],
   "source": [
    "best_parameters = [0.3636,0.6363,0.1826]\n",
    "download_results(KRR_spectrum_6,list_K_train_spectrum_6,list_K_test_spectrum_6,best_parameters,'K_spectrum_6')"
   ]
  },
  {
   "cell_type": "code",
   "execution_count": null,
   "metadata": {},
   "outputs": [],
   "source": []
  }
 ],
 "metadata": {
  "kernelspec": {
   "display_name": "Python 3",
   "language": "python",
   "name": "python3"
  },
  "language_info": {
   "codemirror_mode": {
    "name": "ipython",
    "version": 3
   },
   "file_extension": ".py",
   "mimetype": "text/x-python",
   "name": "python",
   "nbconvert_exporter": "python",
   "pygments_lexer": "ipython3",
   "version": "3.8.2"
  }
 },
 "nbformat": 4,
 "nbformat_minor": 4
}
