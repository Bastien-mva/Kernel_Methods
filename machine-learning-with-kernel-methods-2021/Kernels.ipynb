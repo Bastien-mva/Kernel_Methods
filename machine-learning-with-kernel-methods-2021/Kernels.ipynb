{
 "cells": [
  {
   "cell_type": "code",
   "execution_count": 1,
   "metadata": {},
   "outputs": [],
   "source": [
    "%load_ext autoreload\n",
    "%autoreload 2"
   ]
  },
  {
   "cell_type": "code",
   "execution_count": 2,
   "metadata": {},
   "outputs": [],
   "source": [
    "import pandas as pd \n",
    "import numpy as np\n",
    "from itertools import product, permutations\n",
    "\n",
    "import numba\n",
    "from numba import njit,vectorize, jit\n",
    "from tqdm import tqdm\n",
    "\n",
    "import Estimators"
   ]
  },
  {
   "cell_type": "code",
   "execution_count": 3,
   "metadata": {},
   "outputs": [],
   "source": [
    "#@njit\n",
    "sig2 = 1\n",
    "def GaussianKernel(x,y):\n",
    "    return np.exp(-np.linalg.norm(x-y)**2/(2*sig2))"
   ]
  },
  {
   "cell_type": "code",
   "execution_count": 4,
   "metadata": {},
   "outputs": [],
   "source": [
    "def importation(): \n",
    "    X_train = []\n",
    "    X_test = []\n",
    "    Y_train = []\n",
    "    for i in range(3): \n",
    "        xtrain = pd.read_csv('data/Xtr'+str(i)+'.csv',delimiter= ',', header= None)\n",
    "        xtrain = xtrain.iloc[1:,1].to_numpy()\n",
    "        X_train.append(xtrain)\n",
    "    \n",
    "        xtest = pd.read_csv('data/Xte'+str(i)+'.csv',delimiter= ',', header= None)\n",
    "        xtest = xtest.iloc[1:,1]\n",
    "        X_test.append(xtest)\n",
    "    \n",
    "        Y_train.append(pd.read_csv('data/Ytr'+str(i)+'.csv',delimiter= ',')['Bound'].to_numpy())\n",
    "    return X_train,X_test,Y_train\n",
    "\n",
    "X_train,X_test,Y_train = importation()"
   ]
  },
  {
   "cell_type": "code",
   "execution_count": 5,
   "metadata": {},
   "outputs": [],
   "source": [
    "X_mat100_0 = pd.read_csv('data/Xtr0_mat100.csv',delimiter= ' ', header= None).values\n",
    "Y_mat100_0 = pd.read_csv('data/Ytr0.csv',delimiter= ',')['Bound'].to_numpy()"
   ]
  },
  {
   "cell_type": "code",
   "execution_count": 6,
   "metadata": {},
   "outputs": [],
   "source": [
    "X_traintest = []\n",
    "for i in range(3): \n",
    "    X_traintest.append(np.concatenate((X_train[i],X_test[i])))\n"
   ]
  },
  {
   "cell_type": "code",
   "execution_count": 7,
   "metadata": {},
   "outputs": [],
   "source": [
    "def to_Kernel_train(X, Kernel): \n",
    "    length = X.shape[0]\n",
    "    mat_K = np.zeros((length,length))\n",
    "    for i in range(length):\n",
    "        x_i = np.squeeze(X[i])\n",
    "        for j in range(i,length): \n",
    "            x_j = np.squeeze(X[j])\n",
    "            value = Kernel(x_i,x_j)\n",
    "            mat_K[i,j] = value\n",
    "            mat_K[j,i] = value \n",
    "    return mat_K\n",
    "\n",
    "#@njit \n",
    "def to_Kernel_test(Xtrain,Xtest,Kernel):\n",
    "    length_train = Xtrain.shape[0]\n",
    "    length_test = Xtest.shape[0]\n",
    "    bimat_K = np.zeros((length_train,length_test))\n",
    "    for i in range(length_train):\n",
    "        x_i = np.squeeze(Xtrain[i])\n",
    "        for j in range(length_test): \n",
    "            x_j = np.squeeze(Xtest[j])\n",
    "            value = Kernel(x_i,x_j)\n",
    "            bimat_K[i,j] = value\n",
    "    return bimat_K"
   ]
  },
  {
   "cell_type": "code",
   "execution_count": 11,
   "metadata": {},
   "outputs": [],
   "source": [
    "# Compute phi for Spectrum kernel\n",
    "def phi_spectrum(x,k,U):\n",
    "    \"\"\"U: list of the sequences of size k to look for in x\"\"\"\n",
    "    phi_spec = np.zeros(len(U))\n",
    "    for j, u in enumerate(U):\n",
    "        for i in range(len(x)-k+1):\n",
    "            if x[i:i+k] == u:\n",
    "                phi_spec[j] +=1\n",
    "    return phi_spec\n",
    "\n",
    "#Compute phi for Substring kernel\n",
    "def l(i):\n",
    "    return i[-1] - i[0] + 1\n",
    "\n",
    "def I(k,n):\n",
    "    I = set()\n",
    "    for ele in permutations(range(0,n),k):\n",
    "        I.add(tuple(sorted(list(ele))))\n",
    "    return list(I)\n",
    "\n",
    "def phi_substring(x,k,U,lamb=0.5): #fonctionne (testé avec l'exemple page 392)\n",
    "    \"\"\"U: list of the sequences of size k to look for in x\"\"\"\n",
    "    phi = np.zeros(len(U))\n",
    "    I_kn = I(k,len(x))\n",
    "    for j, u in enumerate(U):\n",
    "        for i in I_kn:\n",
    "            x_i = \"\".join([x[idx]  for idx in i])\n",
    "            if x_i==u:\n",
    "                phi[j] += lamb**l(i)\n",
    "    return phi\n",
    "\n",
    "\n",
    "def make_dict_phi(X, phi,k):\n",
    "    U = [''.join(letter) for letter in product('ACGT', repeat=k)]\n",
    "    phi_dict = {seq:phi(seq,k,U) for seq in tqdm(X)}\n",
    "    return phi_dict\n",
    "    \n",
    "\n",
    "# Compute K(x_i,x) \n",
    "def K_substring_2(x, y):\n",
    "    \"\"\"\n",
    "    Compute K(x_i,x) with K a string kernel\n",
    "    \n",
    "    Parameters:\n",
    "    Ne prend pas en argument X_train mais seulement phi_X_train(qui a été calculé précédement)\n",
    "    et i .\n",
    "    \n",
    "    phi_X_train: list of phi(X_train) which is also needed to construct the matrix K \n",
    "    phi: the function phi\n",
    "    k: hyperparameter of the spectrum kernel (size of sequences in U)\n",
    "    \"\"\"\n",
    "    value = np.sum([dict_sub_traintest_2[str(x)] * dict_sub_traintest_2[str(y)]])  \n",
    "    return value\n",
    "\n",
    "def K_substring_4(x,y): \n",
    "    value = np.sum([dict_sub_traintest_4[str(x)] * dict_sub_traintest_4[str(y)]])  \n",
    "    return value\n",
    "    \n",
    "\n",
    "def K_spectrum_3(x,y): \n",
    "    value = np.sum([dict_spectrum_traintest_3[str(x)] * dict_spectrum_traintest_3[str(y)]])  \n",
    "    return value\n",
    "    \n",
    "def K_spectrum_4(x,y): \n",
    "    value = np.sum([dict_spectrum_traintest_4[str(x)] * dict_spectrum_traintest_4[str(y)]])  \n",
    "    return value\n",
    "\n",
    "def K_spectrum_5(x,y): \n",
    "    value = np.sum([dict_spectrum_traintest_5[str(x)] * dict_spectrum_traintest_5[str(y)]])  \n",
    "    return value\n",
    "\n",
    "\n"
   ]
  },
  {
   "cell_type": "code",
   "execution_count": 10,
   "metadata": {},
   "outputs": [
    {
     "name": "stderr",
     "output_type": "stream",
     "text": [
      "100%|██████████| 3000/3000 [00:02<00:00, 1398.31it/s]\n",
      "100%|██████████| 3000/3000 [00:07<00:00, 375.66it/s]\n",
      "100%|██████████| 3000/3000 [00:31<00:00, 95.57it/s]\n"
     ]
    }
   ],
   "source": [
    "##CONSTRUCTION DES DICTIONNAIRES. On fait ça pour eviter de les recalculer à chaque fois\n",
    "\n",
    "#dict_spectrum_traintest_3 = make_dict_phi(X_traintest[0],phi_spectrum,3)\n",
    "\n",
    "#dict_spectrum_traintest_4 = make_dict_phi(X_traintest[0],phi_spectrum,4)\n",
    "\n",
    "#dict_spectrum_traintest_5 = make_dict_phi(X_traintest[0],phi_spectrum,5)\n",
    "\n",
    "#dict_sub_traintest_2 = make_dict_phi(X_traintest[0], phi_substring,2)\n",
    "\n",
    "#dict_sub_traintest_3 = make_dict_phi(X_traintest[0], phi_substring,3)"
   ]
  },
  {
   "cell_type": "code",
   "execution_count": 185,
   "metadata": {},
   "outputs": [],
   "source": [
    "Kernel_train_Gaussian = to_Kernel_train(X_mat100_0,GaussianKernel)\n",
    "Kernel_test_Gaussian = to_Kernel_test(X_mat100_0,X_mat100_0,GaussianKernel)"
   ]
  },
  {
   "cell_type": "code",
   "execution_count": 194,
   "metadata": {},
   "outputs": [],
   "source": [
    "regressor_Gaussian = Estimators.KRR(Kernel= GaussianKernel,lam = 0)\n",
    "regressor_Gaussian.fit(Kernel_train_Gaussian,Y_train[0])\n",
    "prediction_Gaussian = regressor_Gaussian.predict(Kernel_test_Gaussian)"
   ]
  },
  {
   "cell_type": "code",
   "execution_count": 196,
   "metadata": {},
   "outputs": [
    {
     "data": {
      "text/plain": [
       "0"
      ]
     },
     "execution_count": 196,
     "metadata": {},
     "output_type": "execute_result"
    }
   ],
   "source": [
    "np.max(prediction_Gaussian -Y_train[0]) # on check si nos prédictions sont bonnes "
   ]
  },
  {
   "cell_type": "code",
   "execution_count": 197,
   "metadata": {},
   "outputs": [],
   "source": [
    "Kernel_train_spectrum = to_Kernel_train(X_train[0], K_spectrum_3)\n",
    "Kernel_test_spectrum = to_Kernel_test(X_train[0], X_train[0],K_spectrum_3)"
   ]
  },
  {
   "cell_type": "code",
   "execution_count": 199,
   "metadata": {},
   "outputs": [],
   "source": [
    "regressor_spectrum = Estimators.KRR(Kernel = K_spectrum_3,lam = 0)\n",
    "regressor_spectrum.fit(Kernel_train_spectrum,Y_train[0])\n",
    "predictions_spectrum = regressor_sprectrum.predict(Kernel_test_spectrum)"
   ]
  },
  {
   "cell_type": "code",
   "execution_count": 200,
   "metadata": {},
   "outputs": [
    {
     "data": {
      "text/plain": [
       "array([ 0,  0, -1,  0,  0,  0,  0,  1,  0,  0,  0, -1,  0,  1, -1,  0,  0,\n",
       "       -1, -1,  0,  1, -1,  0, -1,  0, -1, -1,  0,  0,  0,  0, -1,  0, -1,\n",
       "       -1,  1,  0,  1,  0, -1,  0,  1,  1,  1,  0,  0,  0,  0,  1,  0,  0,\n",
       "        0,  0,  0,  1, -1, -1,  0,  0,  1,  0,  0,  0,  0,  0,  0,  1,  1,\n",
       "        1, -1,  0,  0,  0, -1,  1, -1,  0,  0,  0,  0,  0,  0, -1,  0,  0,\n",
       "        1,  0,  0,  0, -1,  0,  0,  0,  0,  0,  0,  0, -1,  0,  0])"
      ]
     },
     "execution_count": 200,
     "metadata": {},
     "output_type": "execute_result"
    }
   ],
   "source": [
    "(predictions_spectrum-Y_train[0])[0:100]"
   ]
  },
  {
   "cell_type": "code",
   "execution_count": 12,
   "metadata": {},
   "outputs": [],
   "source": [
    "Kernel_train_spectrum_5 = to_Kernel_train(X_train[0], K_spectrum_5)\n",
    "Kernel_test_spectrum_5 = to_Kernel_test(X_train[0], X_train[0],K_spectrum_5)"
   ]
  },
  {
   "cell_type": "code",
   "execution_count": 14,
   "metadata": {},
   "outputs": [],
   "source": [
    "regressor_spectrum_5 = Estimators.KRR(Kernel = K_spectrum_5,lam = 0)\n",
    "regressor_spectrum_5.fit(Kernel_train_spectrum_5,Y_train[0])\n",
    "predictions_spectrum_5 = regressor_spectrum_5.predict(Kernel_test_spectrum_5)"
   ]
  },
  {
   "cell_type": "code",
   "execution_count": 15,
   "metadata": {},
   "outputs": [
    {
     "data": {
      "text/plain": [
       "array([ 1,  0,  0, -1, -1,  0,  0,  1,  1, -1,  1,  0, -1,  1,  0,  0, -1,\n",
       "        0, -1,  0,  1, -1, -1,  0,  0,  0,  0,  0,  1,  0,  0,  0, -1, -1,\n",
       "        0,  0,  1,  0,  0, -1, -1,  1,  0,  0,  1,  0,  0, -1,  0,  1, -1,\n",
       "        1, -1,  1,  0,  0,  0,  0,  0,  0, -1,  1,  1,  0,  1,  0,  0,  0,\n",
       "        1, -1,  0,  0,  0, -1,  0, -1,  0,  0,  0, -1, -1,  0, -1,  0,  0,\n",
       "        0,  1,  0,  0,  0, -1, -1,  0,  1,  1, -1,  0,  0, -1,  1])"
      ]
     },
     "execution_count": 15,
     "metadata": {},
     "output_type": "execute_result"
    }
   ],
   "source": [
    "(predictions_spectrum_5-Y_train[0])[0:100]"
   ]
  },
  {
   "cell_type": "code",
   "execution_count": 148,
   "metadata": {},
   "outputs": [],
   "source": [
    "regressor_substring = Estimators.KRR(Kernel= K_substring_2,lam = 0)"
   ]
  },
  {
   "cell_type": "code",
   "execution_count": 152,
   "metadata": {},
   "outputs": [],
   "source": [
    "regressor_substring.fit(X_train[0],Y_train[0])"
   ]
  },
  {
   "cell_type": "code",
   "execution_count": 209,
   "metadata": {},
   "outputs": [],
   "source": [
    "Kernel_train_substring = to_Kernel_train(X_train[0], K_substring_2)\n",
    "Kernel_test_substring = to_Kernel_test(X_train[0],X_train[0],K_substring_2)"
   ]
  },
  {
   "cell_type": "code",
   "execution_count": 212,
   "metadata": {},
   "outputs": [
    {
     "data": {
      "text/plain": [
       "array([ 0, -1, -1,  0,  0,  1,  0,  1,  0,  0,  0, -1,  0,  1, -1,  1, -1,\n",
       "       -1, -1, -1,  1, -1,  0, -1,  0,  0,  0,  0,  1,  1,  0,  0,  0, -1,\n",
       "       -1,  0,  0,  1,  0, -1, -1,  1,  1,  1,  0,  1,  1,  0,  0,  1,  0,\n",
       "        0,  0,  0,  0, -1, -1,  0,  0,  0, -1,  1,  0,  1,  0,  1,  0,  1,\n",
       "        1, -1,  0,  0,  0, -1,  1,  0,  0,  0,  0,  0, -1,  0,  0,  0, -1,\n",
       "        0,  0,  0,  0, -1, -1,  0,  0,  0,  0,  0,  0, -1, -1,  0])"
      ]
     },
     "execution_count": 212,
     "metadata": {},
     "output_type": "execute_result"
    }
   ],
   "source": [
    "regressor_substring = Estimators.KRR(Kernel = K_substring_2)\n",
    "regressor_substring.fit(Kernel_train_substring,Y_train[0])\n",
    "predictions_substring = regressor_substring.predict(Kernel_test_substring)\n",
    "(predictions_substring-Y_train[0])[0:100]"
   ]
  },
  {
   "cell_type": "code",
   "execution_count": 215,
   "metadata": {},
   "outputs": [
    {
     "name": "stdout",
     "output_type": "stream",
     "text": [
      "0.0\n"
     ]
    }
   ],
   "source": [
    "print(np.max(Kernel_train_substring-Kernel_test_substring))"
   ]
  },
  {
   "cell_type": "code",
   "execution_count": 145,
   "metadata": {},
   "outputs": [],
   "source": []
  },
  {
   "cell_type": "code",
   "execution_count": 146,
   "metadata": {},
   "outputs": [],
   "source": [
    "prediction_Gaussian = regressor_Gaussian.predict(X_mat100_0)"
   ]
  },
  {
   "cell_type": "code",
   "execution_count": 147,
   "metadata": {},
   "outputs": [
    {
     "data": {
      "text/plain": [
       "array([0, 0, 0, ..., 0, 0, 0])"
      ]
     },
     "execution_count": 147,
     "metadata": {},
     "output_type": "execute_result"
    }
   ],
   "source": [
    "(prediction_Gaussian-Y_mat100_0)[0:2000]"
   ]
  },
  {
   "cell_type": "code",
   "execution_count": null,
   "metadata": {},
   "outputs": [],
   "source": [
    "#mettre le rademcher dans la classe estimator "
   ]
  }
 ],
 "metadata": {
  "kernelspec": {
   "display_name": "Python 3",
   "language": "python",
   "name": "python3"
  },
  "language_info": {
   "codemirror_mode": {
    "name": "ipython",
    "version": 3
   },
   "file_extension": ".py",
   "mimetype": "text/x-python",
   "name": "python",
   "nbconvert_exporter": "python",
   "pygments_lexer": "ipython3",
   "version": "3.8.2"
  }
 },
 "nbformat": 4,
 "nbformat_minor": 4
}
