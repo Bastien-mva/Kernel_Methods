{
 "cells": [
  {
   "cell_type": "code",
   "execution_count": 3,
   "metadata": {},
   "outputs": [
    {
     "name": "stdout",
     "output_type": "stream",
     "text": [
      "/Users/paulchauvin/Desktop/ETUDES/MVA/Kernel methods/challenge/dataset\n"
     ]
    }
   ],
   "source": [
    "import pandas as pd\n",
    "import numpy as np\n",
    "\n",
    "%cd challenge/dataset\n"
   ]
  },
  {
   "cell_type": "code",
   "execution_count": 111,
   "metadata": {},
   "outputs": [],
   "source": [
    "def load_numeric_data(i):\n",
    "    X = pd.read_csv(\"Xtr{}_mat100.csv\".format(i), header=None, sep=\" \").to_numpy()\n",
    "    Y = pd.read_csv(\"Ytr{}.csv\".format(i), header=None, sep=\",\").to_numpy()\n",
    "    Y = Y[1:,1].astype(int) #remove column ID and header\n",
    "    return X, Y\n",
    "\n",
    "\n",
    "i = 0\n",
    "X_train, Y_train = load_numeric_data(i)"
   ]
  },
  {
   "cell_type": "code",
   "execution_count": null,
   "metadata": {},
   "outputs": [],
   "source": []
  },
  {
   "cell_type": "code",
   "execution_count": null,
   "metadata": {},
   "outputs": [],
   "source": []
  },
  {
   "cell_type": "code",
   "execution_count": null,
   "metadata": {},
   "outputs": [],
   "source": []
  },
  {
   "cell_type": "code",
   "execution_count": null,
   "metadata": {
    "collapsed": true
   },
   "outputs": [],
   "source": [
    "#Logistic regression"
   ]
  },
  {
   "cell_type": "code",
   "execution_count": 112,
   "metadata": {},
   "outputs": [
    {
     "name": "stdout",
     "output_type": "stream",
     "text": [
      "Accuracy on X_train is : 0.6505% \n"
     ]
    }
   ],
   "source": [
    "def sigmoid(x):\n",
    "    # return the sigmoid function in x\n",
    "    return 1 / (1 + np.exp(-x))\n",
    "\n",
    "def h_prime(x):\n",
    "    return np.exp(-x) / (1 + np.exp(-x))**2\n",
    "\n",
    "def f(X,W):\n",
    "    return W.T.dot(X).T\n",
    "\n",
    "def log_likelyhood(W,Y,X):\n",
    "    return Y.dot(np.log(sigmoid(f(X,W)))) + (1 - Y).dot(np.log(1 - sigmoid(f(X,W))))\n",
    "\n",
    "def IRLS(X_train, Y_train, n_iter=1):\n",
    "    incre = 10\n",
    "    n_train, n_col = X_train.shape\n",
    "    X = np.hstack((X_train, np.ones(n_train).reshape(n_train,1))).T\n",
    "    # = np.random.rand(n_train)\n",
    "    W = np.zeros(n_col+1)\n",
    "    for i in range(0,n_iter):\n",
    "        W_n = np.copy(W)\n",
    "    #while np.sum(abs(incre)>eps):\n",
    "        mu = np.squeeze(sigmoid(f(X,W)))\n",
    "        D = np.diag(mu *(1-mu))\n",
    "        if np.linalg.det(X.dot(D.dot(X.T)))==0:\n",
    "           # print(i)\n",
    "            return W\n",
    "        inv = np.linalg.inv(X.dot(D.dot(X.T)))\n",
    "        incre = inv.dot(X.dot(Y_train - mu))\n",
    "        W += incre\n",
    "        if not ((sigmoid(f(X,W))>0).all() and (sigmoid(f(X,W))<1).all()):\n",
    "            return W_n\n",
    "    return W\n",
    "\n",
    "\n",
    "def pred_logi(X_train,W):\n",
    "    n_train, n_col = X_train.shape\n",
    "    X = np.hstack((X_train, np.ones(n_train).reshape(n_train,1))).T\n",
    "    p = sigmoid(f(X,W))\n",
    "    return np.round(p)\n",
    "\n",
    "\n",
    "W = IRLS(X_train, Y_train) #learnt parameters\n",
    "\n",
    "\n",
    "Y_pred_train = pred_logi(X_train,W)\n",
    "\n",
    "acc = np.sum(Y_pred_train == Y_train) / len(Y_train)\n",
    "print(\"Accuracy on X_train is : {}% \".format(acc))"
   ]
  },
  {
   "cell_type": "code",
   "execution_count": 130,
   "metadata": {},
   "outputs": [
    {
     "name": "stdout",
     "output_type": "stream",
     "text": [
      "Accuracy on X_test1 is : 0.5015% \n",
      "Accuracy on X_test2 is : 0.4605% \n"
     ]
    }
   ],
   "source": [
    "#test val\n",
    "for i in (1,2):\n",
    "    X_train, Y_train = load_numeric_data(i)\n",
    "    Y_pred_train = pred_logi(X_train,W)\n",
    "    acc = np.sum(Y_pred_train == Y_train) / len(Y_train)\n",
    "    print(\"Accuracy on X_test{} is : {}% \".format(i,acc))\n",
    "\n",
    "\n"
   ]
  },
  {
   "cell_type": "markdown",
   "metadata": {},
   "source": []
  }
 ],
 "metadata": {
  "kernelspec": {
   "display_name": "Python 3",
   "language": "python",
   "name": "python3"
  },
  "language_info": {
   "codemirror_mode": {
    "name": "ipython",
    "version": 3
   },
   "file_extension": ".py",
   "mimetype": "text/x-python",
   "name": "python",
   "nbconvert_exporter": "python",
   "pygments_lexer": "ipython3",
   "version": "3.6.3"
  }
 },
 "nbformat": 4,
 "nbformat_minor": 2
}
