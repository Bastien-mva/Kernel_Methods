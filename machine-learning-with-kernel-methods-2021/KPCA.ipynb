{
 "cells": [
  {
   "cell_type": "code",
   "execution_count": 49,
   "id": "interracial-objective",
   "metadata": {},
   "outputs": [],
   "source": [
    "import numpy as np\n",
    "import pandas as pd \n",
    "from tqdm import tqdm\n",
    "import numba \n",
    "from numba import njit,vectorize, jit\n",
    "import time \n",
    "import scipy\n",
    "import matplotlib.pyplot as plt\n",
    "import numpy.linalg as LA"
   ]
  },
  {
   "cell_type": "code",
   "execution_count": 26,
   "id": "bottom-hughes",
   "metadata": {},
   "outputs": [],
   "source": [
    "X_train = pd.read_csv('data/Xtr0_mat100.csv', header=None, delimiter = ' ').to_numpy()"
   ]
  },
  {
   "cell_type": "code",
   "execution_count": 66,
   "id": "textile-longitude",
   "metadata": {},
   "outputs": [
    {
     "data": {
      "text/plain": [
       "<matplotlib.collections.PathCollection at 0x7f66eea2b940>"
      ]
     },
     "execution_count": 66,
     "metadata": {},
     "output_type": "execute_result"
    },
    {
     "data": {
      "image/png": "[encoded data removed]",
      "text/plain": [
       "<Figure size 432x288 with 1 Axes>"
      ]
     },
     "metadata": {
      "needs_background": "light"
     },
     "output_type": "display_data"
    }
   ],
   "source": [
    "coef = 2 \n",
    "x1 = np.linspace(-5,-2,100)\n",
    "x1 = np.concatenate((x1,np.linspace(2,5,100)))\n",
    "x2 =coef*x1+np.random.randn(200)\n",
    "plt.scatter(x1,x2)"
   ]
  },
  {
   "cell_type": "code",
   "execution_count": 121,
   "id": "mounted-colleague",
   "metadata": {},
   "outputs": [],
   "source": [
    "@njit\n",
    "def GaussianKernel(x,y,sig2 = 1): \n",
    "    return np.exp(-1/(2*sig2)*LA.norm(x-y)**2)\n",
    "@njit\n",
    "def kern(x,y,sig2): \n",
    "    return np.exp(-1/2*LA.norm(x-y)**2)\n",
    "\n",
    "@njit\n",
    "def to_mat_K(X, Kernel, sig2 = 1): \n",
    "    length = X.shape[0]\n",
    "    mat_K = np.zeros((length,length))\n",
    "    for i in range(length):\n",
    "        x_i = X[i,:]\n",
    "        for j in range(i,length): \n",
    "            x_j = X[j,:]\n",
    "            value = Kernel(x_i,x_j,sig2)\n",
    "            mat_K[i,j] = value\n",
    "            mat_K[j,i] = value \n",
    "    return mat_K   \n",
    "\n",
    "def standardize(K): \n",
    "    U = np.full(K.shape,1/K.shape[0])\n",
    "    I = np.eye(K.shape[0])\n",
    "    return (I-U)@K@(I-U)\n"
   ]
  },
  {
   "cell_type": "code",
   "execution_count": 173,
   "id": "threaded-wholesale",
   "metadata": {},
   "outputs": [],
   "source": [
    "X = np.column_stack((x1,x2))\n",
    "mat_K = to_mat_K(X,GaussianKernel)\n",
    "mat_K = standardize(mat_K)"
   ]
  },
  {
   "cell_type": "code",
   "execution_count": 195,
   "id": "explicit-locking",
   "metadata": {},
   "outputs": [
    {
     "name": "stdout",
     "output_type": "stream",
     "text": [
      "[2.57462550e-15 3.50843157e-14 8.18333491e-14 2.12344114e-13\n",
      " 5.59892883e-13 1.07353811e-12 2.19861273e-12 2.68749391e-12\n",
      " 3.79162129e-12 4.89781018e-12 7.33428137e-12 8.13696526e-12\n",
      " 8.27202585e-12 1.02764236e-11 1.68964207e-11 2.17229983e-11\n",
      " 2.74453465e-11 2.78025955e-11 3.92416922e-11 3.95750609e-11\n",
      " 8.15630755e-11 9.10440377e-11 9.66459157e-11 9.99356378e-11\n",
      " 1.18183962e-10 1.90671870e-10 2.22897865e-10 2.38824983e-10\n",
      " 3.41906484e-10 4.03633769e-10 4.47994782e-10 6.16885797e-10\n",
      " 7.11596603e-10 8.23901796e-10 8.73782726e-10 9.49121074e-10\n",
      " 1.41180703e-09 1.98069893e-09 2.20346633e-09 2.26263860e-09\n",
      " 2.66042447e-09 2.71746780e-09 3.84068203e-09 4.32789259e-09\n",
      " 4.81648241e-09 6.18806603e-09 8.05460176e-09 9.00367038e-09\n",
      " 1.01236221e-08 1.24653079e-08 1.70013852e-08 1.83443466e-08\n",
      " 1.93165043e-08 2.36277020e-08 2.48986375e-08 2.92345675e-08\n",
      " 3.67164968e-08 3.84304838e-08 4.96259230e-08 6.65494715e-08\n",
      " 8.23465685e-08 8.77815406e-08 1.01556299e-07 1.14198837e-07\n",
      " 1.32018631e-07 1.33260282e-07 1.82931583e-07 1.96016070e-07\n",
      " 2.33686665e-07 2.55148114e-07 2.69287839e-07 3.48253147e-07\n",
      " 4.32905277e-07 5.19955279e-07 5.67994546e-07 6.34809782e-07\n",
      " 8.21923164e-07 8.46180676e-07 1.34994344e-06 1.45826658e-06\n",
      " 1.60627164e-06 1.73141098e-06 1.96447242e-06 2.12700262e-06\n",
      " 3.05106276e-06 3.34706269e-06 3.70001185e-06 4.10065307e-06\n",
      " 5.04311494e-06 5.95924895e-06 7.38959874e-06 7.90446782e-06\n",
      " 9.21323606e-06 9.27810803e-06 9.42572821e-06 1.29582947e-05\n",
      " 1.33967328e-05 1.56873664e-05 1.58971645e-05 1.88760325e-05\n",
      " 2.04412826e-05 2.70248925e-05 2.77811030e-05 3.96068596e-05\n",
      " 4.73045959e-05 5.18432462e-05 5.94606328e-05 6.83571643e-05\n",
      " 7.12305792e-05 7.30591901e-05 7.70010180e-05 9.52095333e-05\n",
      " 1.12080647e-04 1.28017146e-04 1.45204886e-04 2.01072921e-04\n",
      " 2.09881033e-04 2.53973679e-04 2.81565714e-04 3.38985553e-04\n",
      " 3.68044760e-04 3.98688243e-04 4.51901920e-04 5.85329038e-04\n",
      " 6.22908475e-04 6.84443181e-04 8.38789284e-04 8.74524165e-04\n",
      " 1.04359344e-03 1.09821331e-03 1.25345876e-03 1.27391984e-03\n",
      " 1.58349741e-03 1.94786658e-03 2.44374061e-03 2.45810121e-03\n",
      " 3.05897321e-03 3.30072690e-03 3.67603437e-03 4.15747276e-03\n",
      " 4.74608733e-03 5.63810841e-03 5.86760670e-03 7.13907191e-03\n",
      " 7.24078887e-03 1.18037017e-02 1.23742746e-02 1.45155478e-02\n",
      " 1.57654426e-02 1.83794761e-02 2.08875463e-02 2.29186254e-02\n",
      " 2.70795119e-02 2.89370117e-02 3.42454500e-02 3.48776990e-02\n",
      " 3.50968992e-02 3.74563098e-02 4.07557019e-02 6.10897586e-02\n",
      " 7.22834565e-02 8.21574237e-02 9.26005742e-02 9.76191486e-02\n",
      " 1.06568842e-01 1.32190642e-01 1.64316474e-01 1.97024539e-01\n",
      " 2.04630442e-01 2.51537093e-01 2.94193286e-01 3.15810957e-01\n",
      " 3.21199788e-01 3.95372910e-01 4.57305847e-01 5.26089450e-01\n",
      " 5.73836448e-01 5.93623725e-01 7.97570632e-01 8.74572129e-01\n",
      " 1.16457648e+00 1.28690541e+00 1.48665491e+00 1.49354301e+00\n",
      " 2.20373813e+00 2.37928993e+00 2.69028599e+00 2.97153897e+00\n",
      " 3.27752416e+00 3.62437360e+00 3.93367630e+00 5.98450092e+00\n",
      " 6.48697472e+00 9.64155461e+00 1.00350208e+01 1.64132276e+01\n",
      " 1.73192960e+01 2.15477202e+01 2.42202900e+01 2.83493504e+01]\n",
      "[[ 7.07106995e-02  0.00000000e+00  0.00000000e+00 ...  9.53493919e-02\n",
      "  -6.23004059e-04  4.73449441e-02]\n",
      " [ 7.07106808e-02 -2.14932865e-10  1.55037601e-05 ...  3.51013100e-02\n",
      "   4.17018056e-04  6.09241493e-03]\n",
      " [ 7.07104488e-02  2.68680946e-07  3.59698676e-04 ...  1.09157288e-01\n",
      "   8.09903238e-06  3.27036525e-02]\n",
      " ...\n",
      " [ 7.07127475e-02  7.74088831e-04  2.41674051e-05 ... -9.56302404e-04\n",
      "   9.29628984e-02 -3.67049578e-02]\n",
      " [ 7.07094046e-02 -5.82916105e-04  1.04583112e-05 ... -6.80404951e-04\n",
      "   8.78476505e-02 -3.43095924e-02]\n",
      " [ 7.07107322e-02 -4.14174905e-05  1.59181776e-05 ...  3.31300552e-04\n",
      "   6.60990578e-02 -2.47370307e-02]]\n"
     ]
    }
   ],
   "source": [
    "W,V = LA.eigh(mat_K)\n",
    "print(W)\n",
    "print(V)"
   ]
  },
  {
   "cell_type": "code",
   "execution_count": 197,
   "id": "bored-romania",
   "metadata": {},
   "outputs": [
    {
     "data": {
      "text/plain": [
       "array([ 0.04734494,  0.00609241,  0.03270365,  0.01892488,  0.03714447,\n",
       "        0.01669523,  0.03118316,  0.02426399,  0.05183507,  0.00610643,\n",
       "        0.05489253,  0.01076746,  0.03407612,  0.0053861 ,  0.03337969,\n",
       "        0.02262863,  0.02521902,  0.02398343,  0.06291475,  0.02842863,\n",
       "        0.0694262 ,  0.05590041,  0.01342799,  0.01146972,  0.03640538,\n",
       "        0.07507117,  0.0874232 ,  0.02699202,  0.08893438,  0.06032665,\n",
       "        0.0447376 ,  0.09026374,  0.09392141,  0.07570938,  0.091161  ,\n",
       "        0.08186655,  0.09794391,  0.08143204,  0.08998088,  0.10184587,\n",
       "        0.09135898,  0.03743532,  0.10039906,  0.09690952,  0.02251328,\n",
       "        0.10206108,  0.10541381,  0.08683468,  0.1075704 ,  0.08952262,\n",
       "        0.10815721,  0.10721914,  0.10870131,  0.10878362,  0.10381269,\n",
       "        0.09143937,  0.05216046,  0.072925  ,  0.09431308,  0.10571982,\n",
       "        0.09373548,  0.08739524,  0.07980172,  0.10717639,  0.10635117,\n",
       "        0.09672252,  0.08226877,  0.10434481,  0.07971284,  0.10120975,\n",
       "        0.06579992,  0.04664138,  0.10100532,  0.10003106,  0.07069102,\n",
       "        0.02515939,  0.09118779,  0.07189567,  0.09606453,  0.08011014,\n",
       "        0.08936004,  0.06935607,  0.08782456,  0.07434687,  0.08540922,\n",
       "        0.06350973,  0.08551705,  0.05491961,  0.04058552,  0.06065992,\n",
       "        0.05720709,  0.07627721,  0.01859111,  0.04504118,  0.04600362,\n",
       "        0.063757  ,  0.06896547,  0.01872517,  0.05171793,  0.02195643,\n",
       "       -0.05449822, -0.06149289, -0.03295222, -0.05641854, -0.05889755,\n",
       "       -0.06427184, -0.06747518, -0.06859222, -0.02922201, -0.04970145,\n",
       "       -0.03957879, -0.05754972, -0.04562401, -0.06825772, -0.07524937,\n",
       "       -0.0548996 , -0.04621801, -0.07070085, -0.05507519, -0.06001935,\n",
       "       -0.07166712, -0.05961182, -0.07816511, -0.06253474, -0.08272969,\n",
       "       -0.08161593, -0.06433622, -0.08394597, -0.06768782, -0.07188606,\n",
       "       -0.08548982, -0.05557028, -0.08472131, -0.08577629, -0.07578668,\n",
       "       -0.08288812, -0.08664391, -0.07856854, -0.05583037, -0.062909  ,\n",
       "       -0.08653077, -0.08634474, -0.08589652, -0.08390175, -0.08379156,\n",
       "       -0.08603932, -0.08753335, -0.08725408, -0.07088267, -0.08734749,\n",
       "       -0.08200781, -0.08709728, -0.08653194, -0.05126758, -0.08644778,\n",
       "       -0.08576685, -0.08382399, -0.06974103, -0.08400612, -0.0816359 ,\n",
       "       -0.06130105, -0.06514017, -0.07241856, -0.07466324, -0.07878906,\n",
       "       -0.08207957, -0.08051741, -0.08094015, -0.0671682 , -0.08076731,\n",
       "       -0.07807728, -0.07522956, -0.07763042, -0.07285187, -0.07222953,\n",
       "       -0.0595486 , -0.0674108 , -0.07477031, -0.05829248, -0.07167369,\n",
       "       -0.05224989, -0.06911573, -0.06037173, -0.06361709, -0.0664372 ,\n",
       "       -0.06549694, -0.04267388, -0.06688508, -0.03382181, -0.06033151,\n",
       "       -0.03545013, -0.0477592 , -0.01703617, -0.02384733, -0.03762975,\n",
       "       -0.03493512, -0.04467876, -0.03670496, -0.03430959, -0.02473703])"
      ]
     },
     "execution_count": 197,
     "metadata": {},
     "output_type": "execute_result"
    }
   ],
   "source": [
    "alpha_0 = V[:,-1]#/np.sqrt(W[0])\n",
    "alpha_0"
   ]
  },
  {
   "cell_type": "code",
   "execution_count": 176,
   "id": "young-dover",
   "metadata": {},
   "outputs": [
    {
     "data": {
      "text/plain": [
       "array([ 0.16019259, -0.13813239,  0.37456891,  0.24381042,  0.38241902,\n",
       "        0.19303417,  0.40617358,  0.35114231,  0.30764089, -0.13178   ,\n",
       "        0.30735259,  0.02532505,  0.45422591, -0.1427718 ,  0.46284458,\n",
       "        0.35142221,  0.39679264,  0.38120183,  0.34798165,  0.44621463,\n",
       "        0.29834643,  0.44466015,  0.15336724,  0.09725579,  0.50992295,\n",
       "        0.29890507,  0.01107098,  0.4486171 ,  0.07133098,  0.46117379,\n",
       "        0.52177586,  0.12699878,  0.0319546 ,  0.35993138, -0.29855366,\n",
       "        0.30644943,  0.0053171 ,  0.31849137,  0.21684444, -0.18526762,\n",
       "        0.20482624,  0.49169513,  0.03546716,  0.12043541,  0.39051319,\n",
       "        0.01033616, -0.3077136 , -0.33484956, -0.22318002,  0.21738045,\n",
       "       -0.27661615, -0.14933218, -0.276577  , -0.24841201, -0.37623886,\n",
       "       -0.3129323 ,  0.39776033, -0.16628087,  0.0811607 , -0.36575187,\n",
       "       -0.29842737, -0.24395436,  0.20222641, -0.33841671, -0.26545563,\n",
       "       -0.29609412, -0.18175791, -0.25783245, -0.15737953, -0.21405639,\n",
       "       -0.07700876, -0.00951326, -0.30939109, -0.26454113, -0.09296018,\n",
       "        0.02638869, -0.22567798, -0.09583614, -0.27105987, -0.14169236,\n",
       "       -0.21491066, -0.08286767, -0.20696048, -0.10932764, -0.19959771,\n",
       "        0.03358436, -0.20809325, -0.03348129, -0.00235056, -0.05433508,\n",
       "       -0.0439289 , -0.14824162,  0.01564618, -0.01650943, -0.0198836 ,\n",
       "       -0.08068472, -0.15597656,  0.01008512, -0.04084742,  0.00581558,\n",
       "       -0.02948378, -0.02440938, -0.02664662, -0.03007509, -0.02970029,\n",
       "       -0.02745457, -0.02425568, -0.0242401 , -0.0239559 , -0.0302493 ,\n",
       "       -0.02774688, -0.01331242, -0.02893413, -0.0171822 , -0.02447038,\n",
       "       -0.01069658, -0.02803407, -0.0278116 , -0.02874544, -0.02864591,\n",
       "       -0.02714918, -0.02799857, -0.02476235, -0.01055844, -0.0202561 ,\n",
       "       -0.02287042, -0.02608552, -0.02119579, -0.02507785, -0.02425219,\n",
       "       -0.01966963, -0.0237835 , -0.01652417, -0.01954733, -0.01168372,\n",
       "       -0.0201308 , -0.01839392, -0.02012078, -0.02058742, -0.02019294,\n",
       "       -0.0144175 , -0.01731245, -0.01718193, -0.01259637, -0.0170462 ,\n",
       "       -0.01617189, -0.01388519, -0.01482704, -0.01628498, -0.01346482,\n",
       "       -0.01358969, -0.01328427, -0.01300983, -0.01400109, -0.01304691,\n",
       "       -0.0132069 , -0.01469206, -0.02848237, -0.01500408, -0.0130147 ,\n",
       "       -0.0399728 , -0.03833288, -0.032223  , -0.03057315, -0.02529955,\n",
       "       -0.01860509, -0.01299291, -0.02126017, -0.04592394, -0.01786651,\n",
       "       -0.02893696, -0.01253809, -0.02950556, -0.0416238 , -0.01248284,\n",
       "       -0.06198977, -0.05285239, -0.0342465 , -0.06595592, -0.04288507,\n",
       "       -0.07237274, -0.04845116, -0.01121298, -0.0601673 , -0.05244826,\n",
       "       -0.0536894 , -0.07994087, -0.03908998, -0.07821399, -0.06160468,\n",
       "       -0.08046625, -0.0798966 , -0.05555842, -0.06947575, -0.08291107,\n",
       "       -0.08223413, -0.08062351, -0.08305217, -0.08240453, -0.07334392])"
      ]
     },
     "execution_count": 176,
     "metadata": {},
     "output_type": "execute_result"
    }
   ],
   "source": [
    "proj = mat_K@alpha_0\n",
    "proj"
   ]
  },
  {
   "cell_type": "code",
   "execution_count": 126,
   "id": "turned-chain",
   "metadata": {},
   "outputs": [],
   "source": [
    "def f_0(x, mat_K):\n",
    "    pass"
   ]
  },
  {
   "cell_type": "code",
   "execution_count": 127,
   "id": "impressive-notice",
   "metadata": {},
   "outputs": [],
   "source": [
    "@njit\n",
    "def kern(x,y,sig2): \n",
    "    return np.exp(-1/2*LA.norm(x-y)**2)"
   ]
  },
  {
   "cell_type": "code",
   "execution_count": 191,
   "id": "analyzed-lover",
   "metadata": {},
   "outputs": [],
   "source": [
    "import time \n",
    "from scipy.spatial.distance import pdist, squareform\n",
    "from scipy import exp\n",
    "from scipy.linalg import eigh\n",
    "import numpy as np\n",
    "\n",
    "def stepwise_kpca(X, gamma, n_components):\n",
    "    \"\"\"\n",
    "    Implementation of a RBF kernel PCA.\n",
    "    Arguments:\n",
    "        X: A MxN dataset as NumPy array where the samples are stored as rows (M),\n",
    "           and the attributes defined as columns (N).\n",
    "        gamma: A free parameter (coefficient) for the RBF kernel.\n",
    "        n_components: The number of components to be returned.\n",
    "    \"\"\"\n",
    "    # Calculating the squared Euclidean distances for every pair of points\n",
    "    # in the MxN dimensional dataset.\n",
    "    \n",
    "    sq_dists = pdist(X, 'sqeuclidean')\n",
    "    \n",
    "    \n",
    "    # Converting the pairwise distances into a symmetric MxM matrix.\n",
    "    mat_sq_dists = squareform(sq_dists)\n",
    "    \n",
    "    # Computing the MxM kernel matrix.\n",
    "    K = np.exp(-gamma * mat_sq_dists)\n",
    "    # Centering the symmetric NxN kernel matrix.\n",
    "    N = K.shape[0]\n",
    "    one_n = np.ones((N,N)) / N\n",
    "    K = K - one_n.dot(K) - K.dot(one_n) + one_n.dot(K).dot(one_n)\n",
    "    # Obtaining eigenvalues in descending order with corresponding\n",
    "    # eigenvectors from the symmetric matrix.\n",
    "    eigvals, eigvecs = eigh(K)\n",
    "    # Obtaining the i eigenvectors that corresponds to the i highest eigenvalues.\n",
    "    #X_pc = np.column_stack((eigvecs[:,-i] for i in range(1,n_components+1)))\n",
    "    X_pc = eigvecs[:,-1]\n",
    "    return X_pc,eigvals\n",
    "\n",
    "kpca,eigvals = stepwise_kpca(X,1/2,1)"
   ]
  },
  {
   "cell_type": "code",
   "execution_count": 185,
   "id": "supported-trial",
   "metadata": {},
   "outputs": [],
   "source": [
    "eigvals\n",
    "eigvals_sorted = np.zeros(eigvals.shape[0])\n",
    "for i in range(eigvals.shape[0]): \n",
    "    eigvals_sorted[i]= eigvals[-i-1]"
   ]
  },
  {
   "cell_type": "code",
   "execution_count": 198,
   "id": "ordered-colors",
   "metadata": {},
   "outputs": [
    {
     "data": {
      "text/plain": [
       "array([-4.64905892e-16,  0.00000000e+00, -8.88178420e-16, -7.77156117e-16,\n",
       "       -7.21644966e-16, -5.34294831e-16, -6.80011603e-16, -6.97358837e-16,\n",
       "       -7.49400542e-16, -1.91686944e-16, -7.07767178e-16, -3.69496100e-16,\n",
       "       -7.35522754e-16, -1.67400815e-16, -7.77156117e-16, -7.04297731e-16,\n",
       "       -7.07767178e-16, -6.86950496e-16, -7.49400542e-16, -7.35522754e-16,\n",
       "       -7.07767178e-16, -7.35522754e-16, -4.26741975e-16, -3.64291930e-16,\n",
       "       -7.63278329e-16, -6.93889390e-16, -4.85722573e-16, -7.11236625e-16,\n",
       "       -4.85722573e-16, -7.07767178e-16, -7.00828284e-16, -5.13478149e-16,\n",
       "       -4.44089210e-16, -6.66133815e-16,  1.38777878e-17, -6.66133815e-16,\n",
       "       -4.02455846e-16, -6.66133815e-16, -5.41233725e-16, -1.94289029e-16,\n",
       "       -4.85722573e-16, -6.52256027e-16, -4.30211422e-16, -4.44089210e-16,\n",
       "       -5.75928194e-16, -3.33066907e-16,  8.32667268e-17,  4.71844785e-16,\n",
       "       -4.16333634e-17, -4.99600361e-16,  5.55111512e-17, -1.38777878e-16,\n",
       "        5.55111512e-17,  4.16333634e-17,  4.57966998e-16,  6.10622664e-16,\n",
       "       -5.96744876e-16,  6.52256027e-16, -3.46944695e-16,  4.30211422e-16,\n",
       "        7.63278329e-16,  7.35522754e-16, -3.46944695e-16,  4.02455846e-16,\n",
       "        1.66533454e-16,  7.35522754e-16,  7.35522754e-16,  2.49800181e-16,\n",
       "        7.91033905e-16,  2.08166817e-16,  6.80011603e-16,  5.13478149e-16,\n",
       "        6.10622664e-16,  3.88578059e-16,  7.21644966e-16,  2.60208521e-16,\n",
       "        8.04911693e-16,  7.49400542e-16,  5.27355937e-16,  8.04911693e-16,\n",
       "        8.32667268e-16,  7.49400542e-16,  7.91033905e-16,  8.04911693e-16,\n",
       "        3.88578059e-16,  1.38777878e-17,  7.35522754e-16,  5.89805982e-16,\n",
       "        4.57966998e-16,  7.00828284e-16,  6.45317133e-16,  7.35522754e-16,\n",
       "        1.42247325e-16,  4.85722573e-16,  5.06539255e-16,  6.66133815e-16,\n",
       "        5.13478149e-16,  1.63064007e-16,  5.82867088e-16,  1.90819582e-16,\n",
       "       -1.04083409e-16, -1.11022302e-16, -9.71445147e-17, -1.17961196e-16,\n",
       "       -8.32667268e-17, -1.24900090e-16, -9.71445147e-17, -8.32667268e-17,\n",
       "       -9.02056208e-17, -1.17961196e-16, -9.02056208e-17, -7.63278329e-17,\n",
       "       -1.17961196e-16, -1.38777878e-16, -1.24900090e-16, -4.85722573e-17,\n",
       "       -1.52655666e-16, -1.52655666e-16, -1.31838984e-16, -1.73472348e-16,\n",
       "       -1.94289029e-16, -1.17961196e-16, -1.24900090e-16, -6.93889390e-17,\n",
       "       -8.32667268e-17, -1.52655666e-16, -1.38777878e-16, -1.66533454e-16,\n",
       "       -1.80411242e-16, -1.24900090e-16, -1.52655666e-16, -1.17961196e-16,\n",
       "       -1.11022302e-16, -1.52655666e-16, -5.55111512e-17, -1.80411242e-16,\n",
       "       -1.38777878e-16, -1.38777878e-16, -1.31838984e-16, -1.38777878e-16,\n",
       "       -4.16333634e-17, -1.52655666e-16, -1.24900090e-16, -8.32667268e-17,\n",
       "       -1.94289029e-16, -1.66533454e-16, -9.71445147e-17, -1.11022302e-16,\n",
       "       -1.38777878e-16, -8.32667268e-17,  5.55111512e-17, -8.32667268e-17,\n",
       "       -2.77555756e-17, -9.71445147e-17, -8.32667268e-17, -1.11022302e-16,\n",
       "        8.32667268e-17,  2.22044605e-16,  6.93889390e-17, -1.24900090e-16,\n",
       "        2.56739074e-16,  2.77555756e-16,  2.49800181e-16,  2.63677968e-16,\n",
       "        2.49800181e-16,  1.52655666e-16, -2.77555756e-17,  2.08166817e-16,\n",
       "        2.91433544e-16,  1.11022302e-16,  2.63677968e-16, -4.16333634e-17,\n",
       "        2.08166817e-16,  2.91433544e-16, -4.16333634e-17,  2.49800181e-16,\n",
       "        3.05311332e-16,  2.77555756e-16,  2.77555756e-16,  2.77555756e-16,\n",
       "        2.49800181e-16,  2.91433544e-16, -1.38777878e-17,  2.77555756e-16,\n",
       "        2.63677968e-16,  2.91433544e-16,  1.94289029e-16,  2.77555756e-16,\n",
       "        1.52655666e-16,  2.77555756e-16,  1.66533454e-16,  2.22044605e-16,\n",
       "        7.28583860e-17,  1.04083409e-16,  1.66533454e-16,  1.38777878e-16,\n",
       "        2.08166817e-16,  1.80411242e-16,  1.59594560e-16,  1.11022302e-16])"
      ]
     },
     "execution_count": 198,
     "metadata": {},
     "output_type": "execute_result"
    }
   ],
   "source": [
    "kpca-alpha_0"
   ]
  },
  {
   "cell_type": "code",
   "execution_count": null,
   "id": "herbal-model",
   "metadata": {},
   "outputs": [],
   "source": []
  }
 ],
 "metadata": {
  "kernelspec": {
   "display_name": "Python 3",
   "language": "python",
   "name": "python3"
  },
  "language_info": {
   "codemirror_mode": {
    "name": "ipython",
    "version": 3
   },
   "file_extension": ".py",
   "mimetype": "text/x-python",
   "name": "python",
   "nbconvert_exporter": "python",
   "pygments_lexer": "ipython3",
   "version": "3.8.2"
  }
 },
 "nbformat": 4,
 "nbformat_minor": 5
}
